{
 "cells": [
  {
   "cell_type": "markdown",
   "id": "50b111dd-51f2-4c6f-8334-df009e437b71",
   "metadata": {},
   "source": [
    "# Transport d'un polluant et problème adjoint\n",
    "\n",
    "On considère le problème de transport d'un polluant modélisé à l'aide de l'équation de advection-diffusion sur une \n",
    "géométrie représentant grossièrement la surface d'une rivière surplombée de deux quais. \n",
    "\n",
    "\\begin{align}\n",
    "    -\\nabla \\cdot (k \\nabla \\phi) + \\nabla \\cdot (v \\phi) &= 0 \\qquad && \\text{pour } x \\in \\Omega,\\\\\n",
    "    \\phi(x) &= \\phi_D(x) && \\text{pour } x\\in \\Gamma_\\text{ouest}, \\\\\n",
    "    -k\\nabla \\phi \\cdot n &= 0  && \\text{pour } x\\in \\partial \\Omega \\setminus \\Gamma_\\text{ouest},\n",
    "\\end{align}\n",
    "\n",
    "où $\\phi$ est la concentration du polluant, $k=0.01$ est le coefficient de diffusion, $v$ est le champ de vitesse."
   ]
  },
  {
   "cell_type": "markdown",
   "id": "2c4f7347-2a5f-4d39-b55d-3b96cf15f1d0",
   "metadata": {},
   "source": [
    "<img src=\"./model_pollutant.svg\" alt=\"Structure code Fenicsx\" width=\"800\"/>"
   ]
  },
  {
   "cell_type": "markdown",
   "id": "fc5718a9-6e76-475d-8d16-b6c7020f6d89",
   "metadata": {},
   "source": [
    "La condition de Dirichlet sur la concentration du polluant $\\phi_D(x)$ est définie ainsi:\n",
    "\n",
    "\\begin{align}\n",
    "    \\phi_D(x;y_0,L,c) = \\begin{cases} \n",
    "        c \\exp\\left(\\frac{1}{\\left(\\frac{x_2 - y_0}{L}\\right)^2 -1}\\right) & \\text{si $\\big\\lvert\\frac{x_2 - y_0}{L}\\big\\rvert < 1$}\\\\\n",
    "                        0 & \\text{sinon}\n",
    "    \\end{cases}\n",
    "\\end{align}\n",
    "\n",
    "Cette fonction correspond à un *mollifier* centré en $y_0$ de taille $L$ et d'intensité $c$. Il est important de mentionner que cette fonction est $C^\\infty(\\Omega)$, que son support est $\\mathbb{R} \\times [y_0-L,y_0+L]$ et que toutes ses dérivées s'annulent en $x_2 \\in \\{y_0-L,y_0+L\\}$. On fixera ces paramètres aux valeurs suivantes: $y_0 = 0.3$, $L=0.2$ et $c=1$.\n",
    "\n",
    "Le champ de vitesse $v$ est déterminé par l'équation de Stokes\n",
    "\n",
    "\\begin{align}\n",
    "    - \\nu \\Delta v + \\nabla p &= 0 \\qquad && \\text{pour } x\\in \\Omega\\\\\n",
    "    \\nabla \\cdot v & =0 && \\text{pour } x\\in \\Omega \\\\\n",
    "    v &=0  &&\\text{pour } x\\in \\Gamma_\\text{rive} \\cup \\Gamma_\\text{quai}\\\\\n",
    "    v &=v_D  &&\\text{pour } x\\in \\Gamma_\\text{ouest} \\\\\n",
    "    (\\nu \\nabla v- pI) \\cdot n &= 0 &&\\text{pour } x\\in \\Gamma_\\text{est} \n",
    "\\end{align}\n",
    "\n",
    "où $p$ est le champ de pression, $\\nu=0.001$ est le coefficient de viscosité dynamique. La condition de Dirichlet sur le champ de vitesse $v_D$ est de la forme:\n",
    "\\begin{align}\n",
    "    v_D(x) = -x_2(x_2-2),\n",
    "\\end{align}\n",
    "\n",
    "ce qui correspond à un écoulement stationnaire entre 2 plaques. Ce problème est couplé, mais le champ de pression $p$ et de vitesse $v$ ne dépendent de la concentration $\\phi$ du polluant."
   ]
  },
  {
   "cell_type": "markdown",
   "id": "3ab62328-d7fa-46c8-b39b-8e42e0c02bb3",
   "metadata": {},
   "source": [
    "On s'intéresse à la concentration du polluant les deux régions notées par $\\Omega_1$ et $\\Omega_2$\n",
    "\n",
    "\\begin{align}\n",
    "    Q_1(\\phi) = \\frac{1}{\\lvert\\Omega_1\\rvert}\\int_{\\Omega_1} \\phi \\, dx\\\\\n",
    "    Q_2(\\phi) = \\frac{1}{\\lvert\\Omega_2\\rvert}\\int_{\\Omega_2} \\phi \\, dx\n",
    "\\end{align}\n",
    "\n",
    "---"
   ]
  },
  {
   "cell_type": "markdown",
   "id": "64c0bbbc-56d2-4d55-ad9d-e2a1c29ff0ed",
   "metadata": {},
   "source": [
    "## Résolution du problème de Stokes\n",
    "\n",
    "On résoud en premier le problème de Stokes. La forme faible de ce problème mixte est: trouver $(v,p) \\in W = V \\times P$ tel que\n",
    "\n",
    "\\begin{align}\n",
    "    \\int_\\Omega \\nu \\nabla v \\cdot \\nabla \\beta - p \\nabla \\cdot \\beta + q\\nabla \\cdot u\\, dx = 0 \\qquad \\forall \\, (\\beta,q) \\in W = V \\times P\n",
    "\\end{align}\n",
    "\n",
    "Une discrétisation stable consiste à choisir $V_h$ comme étant $(\\mathcal{P}_2(\\Omega))^d$ et $P_h$ comme étant $\\mathcal{P}_1(\\Omega)$ (éléments finis de Taylor-Hood). "
   ]
  },
  {
   "cell_type": "code",
   "execution_count": 1,
   "id": "14619e23-beca-4c0c-9a2a-7f02839e408d",
   "metadata": {},
   "outputs": [],
   "source": [
    "# Exécuter cette commande une seule fois lorsque le container est en fonctionnement. \n",
    "# La commande installe dans les modules nécessaires à la visualisation des résultats  \n",
    "# %pip install ipywidgets 'pyvista[all,trame]'\n",
    "\n",
    "import numpy as np\n",
    "import pyvista\n",
    "pyvista.OFF_SCREEN = True # Mettre False si l'affichage interactif semble fonctionner, sinon mettre True\n",
    "\n",
    "import ufl # Package pour manipuler les formes bilinéaires et linéaires\n",
    "from dolfinx import fem, mesh, plot # Package pour l'assemblage et pour l'affichage\n",
    "from dolfinx.fem.petsc import LinearProblem\n",
    "from dolfinx.io import XDMFFile, gmshio # Package avec des fonctions pour l'input/output de données\n",
    "\n",
    "from mpi4py import MPI # Package pour le calcul parallèle\n",
    "from petsc4py import PETSc # Package pour la résolution de\n",
    "\n",
    "from IPython.display import display, Markdown , Latex # Modules pour l'affichage Markdown"
   ]
  },
  {
   "cell_type": "code",
   "execution_count": 2,
   "id": "db7ca11b-f366-4c1e-9013-2f3de8baa85b",
   "metadata": {},
   "outputs": [
    {
     "name": "stdout",
     "output_type": "stream",
     "text": [
      "Info    : Reading 'river.msh'...\n",
      "Info    : 31 entities\n",
      "Info    : 22207 nodes\n",
      "Info    : 44412 elements\n",
      "Info    : Done reading 'river.msh'\n"
     ]
    }
   ],
   "source": [
    "(domain, cell_tags, facet_tags) = gmshio.read_from_msh(\"river.msh\", MPI.COMM_WORLD, gdim=2)\n",
    "\n",
    "x = ufl.SpatialCoordinate(domain)\n",
    "ds = ufl.Measure(\"ds\", domain=domain, subdomain_data=facet_tags)\n",
    "nMesh = ufl.FacetNormal(domain)"
   ]
  },
  {
   "cell_type": "code",
   "execution_count": 3,
   "id": "4d7a4fbf-cf1c-4b90-a451-469fdcf30254",
   "metadata": {},
   "outputs": [
    {
     "data": {
      "text/markdown": [
       "<img src=\"./mesh.png\" width=\"800\"/>"
      ],
      "text/plain": [
       "<IPython.core.display.Markdown object>"
      ]
     },
     "metadata": {},
     "output_type": "display_data"
    }
   ],
   "source": [
    "pyvista.set_jupyter_backend(\"trame\")\n",
    "if pyvista.OFF_SCREEN:\n",
    "    pyvista.start_xvfb()\n",
    "\n",
    "\n",
    "topology, cell_types, geometry = plot.vtk_mesh(domain, 2)\n",
    "grid = pyvista.UnstructuredGrid(topology, cell_types, geometry)\n",
    "plotter = pyvista.Plotter()\n",
    "plotter.add_mesh(grid, show_edges=True)\n",
    "plotter.view_xy()\n",
    "if not pyvista.OFF_SCREEN:\n",
    "    plotter.show()\n",
    "else:\n",
    "    plotter.camera.zoom('tight')\n",
    "    figure = plotter.screenshot(\"mesh.png\")\n",
    "    display(Markdown('<img src=\"./mesh.png\" width=\"800\"/>'))"
   ]
  },
  {
   "cell_type": "code",
   "execution_count": 4,
   "id": "b292ec1d-b0ac-4ea2-a444-c9ed460b6b5e",
   "metadata": {},
   "outputs": [],
   "source": [
    "nu = 0.001\n",
    "\n",
    "def v_D(x):\n",
    "    return np.stack((-x[1]*(x[1]-2),np.zeros(x.shape[1])))\n",
    "\n",
    "def null_vel(x):\n",
    "    return np.stack((np.zeros(x.shape[1]), np.zeros(x.shape[1])))"
   ]
  },
  {
   "cell_type": "code",
   "execution_count": 5,
   "id": "12bbed59-dbe9-478a-b031-0045300d685e",
   "metadata": {},
   "outputs": [],
   "source": [
    "P2 = ufl.VectorElement(\"Lagrange\", domain.ufl_cell(), 2)\n",
    "P1 = ufl.FiniteElement(\"Lagrange\", domain.ufl_cell(), 1)\n",
    "\n",
    "W = fem.FunctionSpace(domain, P2 * P1)\n",
    "\n",
    "(v, p) = ufl.TrialFunctions(W)\n",
    "(beta, q) = ufl.TestFunctions(W)"
   ]
  },
  {
   "cell_type": "markdown",
   "id": "c5832eae-3ad0-4540-9472-c18ec1b234b1",
   "metadata": {},
   "source": [
    "### Forme bilinéaire et linéaire\n",
    "\n",
    "La forme bilinéaire pour le problème de Stokes est\n",
    "\n",
    "\\begin{align}\n",
    "    a(\\{v,p\\},\\{\\beta,q\\}) = \\int_\\Omega \\nu \\nabla v \\cdot \\nabla \\beta - p \\nabla \\cdot \\beta + q\\nabla \\cdot u\\, dx\n",
    "\\end{align}\n",
    "\n",
    "alors que la forme linéaire est\n",
    "\n",
    "\\begin{align}\n",
    "    l(\\{\\beta,q\\}) = 0\n",
    "\\end{align}"
   ]
  },
  {
   "cell_type": "code",
   "execution_count": 6,
   "id": "eb7a2ae6-1fd4-4629-bf97-d35d55b31356",
   "metadata": {},
   "outputs": [],
   "source": [
    "a = fem.form((nu * ufl.inner(ufl.grad(v), ufl.grad(beta)) \n",
    "              - ufl.inner(p, ufl.div(beta)) \n",
    "              + ufl.inner(ufl.div(v), q)) * ufl.dx)"
   ]
  },
  {
   "cell_type": "code",
   "execution_count": 7,
   "id": "d9b18370-7ec9-42ce-8e98-19faec982b92",
   "metadata": {},
   "outputs": [],
   "source": [
    "f = fem.Constant(domain, (0.0,0.0))\n",
    "l = fem.form(ufl.inner(f,beta)*ufl.dx)"
   ]
  },
  {
   "cell_type": "markdown",
   "id": "30eeac61-c5e0-4387-8e04-861de7705806",
   "metadata": {},
   "source": [
    "### Imposition des conditions frontières"
   ]
  },
  {
   "cell_type": "code",
   "execution_count": 8,
   "id": "cbbddf1a-f6be-4063-a7a1-0bce5a83e328",
   "metadata": {},
   "outputs": [],
   "source": [
    "W0, _ = W.sub(0).collapse()\n",
    "\n",
    "u_dir = fem.Function(W0)\n",
    "u_dir.interpolate(null_vel)\n",
    "bc_dofs = fem.locate_dofs_topological((W.sub(0),W0), domain.topology.dim-1, facet_tags.find(1))\n",
    "bcs1 = fem.dirichletbc(u_dir, bc_dofs, W.sub(0))\n",
    "\n",
    "u_dir = fem.Function(W0)\n",
    "u_dir.interpolate(null_vel)\n",
    "bc_dofs = fem.locate_dofs_topological((W.sub(0),W0), domain.topology.dim-1, facet_tags.find(2))\n",
    "bcs2 = fem.dirichletbc(u_dir, bc_dofs, W.sub(0))\n",
    "\n",
    "u_dir = fem.Function(W0)\n",
    "u_dir.interpolate(null_vel)\n",
    "bc_dofs = fem.locate_dofs_topological((W.sub(0),W0), domain.topology.dim-1, facet_tags.find(4))\n",
    "bcs4 = fem.dirichletbc(u_dir, bc_dofs, W.sub(0))\n",
    "\n",
    "u_dir = fem.Function(W0)\n",
    "u_dir.interpolate(v_D)\n",
    "bc_dofs = fem.locate_dofs_topological((W.sub(0),W0), domain.topology.dim-1, facet_tags.find(5))\n",
    "bcs5 = fem.dirichletbc(u_dir, bc_dofs, W.sub(0))\n",
    "\n",
    "\n",
    "bcs = [bcs1,bcs2,bcs4,bcs5]"
   ]
  },
  {
   "cell_type": "code",
   "execution_count": 12,
   "id": "b39626d2-f861-4176-9be9-7d0624f5490a",
   "metadata": {},
   "outputs": [],
   "source": [
    "A = fem.petsc.assemble_matrix(a, bcs=bcs)\n",
    "A.assemble()\n",
    "b = fem.petsc.assemble_vector(l)\n",
    "\n",
    "fem.petsc.apply_lifting(b, [a], bcs=[bcs])\n",
    "b.ghostUpdate(addv=PETSc.InsertMode.ADD, mode=PETSc.ScatterMode.REVERSE)\n",
    "\n",
    "# Set Dirichlet boundary condition values in the RHS\n",
    "fem.petsc.set_bc(b, bcs)\n",
    "\n",
    "# Create and configure solver\n",
    "solver = PETSc.KSP().create(domain.comm)\n",
    "solver.setOperators(A)\n",
    "solver.setType(\"preonly\")\n",
    "solver.getPC().setType(\"lu\")\n",
    "solver.getPC().setFactorSolverType(\"superlu_dist\")\n",
    "# solver.setType(\"fgmres\")\n",
    "# solver.getPC().setType(\"ilu\")\n",
    "# solver.setTolerances(rtol = 1e-12, atol=1e-12, max_it=50000)\n",
    "\n",
    "# Compute the solution\n",
    "U = fem.Function(W)\n",
    "solver.solve(b, U.vector)\n",
    "# Split the mixed solution and collapse\n",
    "v = U.sub(0).collapse()\n",
    "p = U.sub(1).collapse()\n",
    "v.x.scatter_forward()\n",
    "p.x.scatter_forward()"
   ]
  },
  {
   "cell_type": "code",
   "execution_count": 13,
   "id": "c818331c-b981-436a-8b49-d427e309d21c",
   "metadata": {},
   "outputs": [],
   "source": [
    "# Enregistrement des résultats pour visualisation dans Paraview\n",
    "\n",
    "v.name = \"Vitesse\"\n",
    "p.name = \"Pressure\"\n",
    "with XDMFFile(MPI.COMM_WORLD, \"stokes.xdmf\", \"w\") as xdmf:\n",
    "\n",
    "    # Interpolation de la vitesse sur des éléments de Lagrange de degré 1 pour l'affichage\n",
    "    P1_vec = ufl.VectorElement(\"Lagrange\", domain.ufl_cell(), 1)\n",
    "    v_inter = fem.Function(fem.functionspace(domain, P1_vec))\n",
    "    v_inter.name = \"Vitesse\"\n",
    "    v_inter.interpolate(v)\n",
    "    \n",
    "    xdmf.write_mesh(domain)\n",
    "    xdmf.write_function(v_inter)\n",
    "    xdmf.write_function(p)"
   ]
  },
  {
   "cell_type": "code",
   "execution_count": 14,
   "id": "a84078db-7184-43ce-8428-82d93d5b284a",
   "metadata": {},
   "outputs": [
    {
     "data": {
      "text/markdown": [
       "<img src=\"./stokes.png\" width=\"800\"/>"
      ],
      "text/plain": [
       "<IPython.core.display.Markdown object>"
      ]
     },
     "metadata": {},
     "output_type": "display_data"
    }
   ],
   "source": [
    "topology, cell_types, geometry = plot.vtk_mesh(W0)\n",
    "values = np.zeros((geometry.shape[0], 3), dtype=np.float64)\n",
    "values[:, :len(v)] = v.x.array.real.reshape((geometry.shape[0], len(v)))\n",
    "\n",
    "# Create a point cloud of glyphs\n",
    "function_grid = pyvista.UnstructuredGrid(topology, cell_types, geometry)\n",
    "function_grid[\"v\"] = values\n",
    "streamlines, src = function_grid.streamlines(vectors=\"v\", n_points=50, pointa = (1.9,0.0,0.0),pointb=(1.9,2.0,0.0),return_source=True)\n",
    "\n",
    "# Create plotter\n",
    "plotter = pyvista.Plotter()\n",
    "plotter.add_mesh(function_grid, style=\"surface\",color=\"w\")\n",
    "plotter.add_mesh(streamlines)\n",
    "plotter.view_xy()\n",
    "if not pyvista.OFF_SCREEN:\n",
    "    plotter.show()\n",
    "else:\n",
    "    plotter.camera.zoom(1.5)\n",
    "    figure = plotter.screenshot(\"stokes.png\") \n",
    "    display(Markdown('<img src=\"./stokes.png\" width=\"800\"/>'))"
   ]
  },
  {
   "cell_type": "markdown",
   "id": "525fbdf8-1df8-40c0-99a6-ed44e8b98df7",
   "metadata": {},
   "source": [
    "---\n",
    "\n",
    "## Résolution du problème de transport de polluant\n",
    "\n",
    "Maintenant que le champ de vitesse $v$ est calculé, on peut résoudre le problème de transport de polluant. La forme faible de ce problème consiste à trouver $\\phi \\in V = \\{v\\in H^1(\\Omega) \\, \\lvert \\, u\\lvert_{\\Gamma_\\text{Ouest}} = u_D\\}$ tel que\n",
    "\n",
    "\\begin{align}\n",
    "    \\int_\\Omega k \\nabla \\phi \\cdot \\nabla \\psi + \\nabla \\cdot (v \\phi) \\psi\\, dx = 0 \\qquad \\forall \\psi \\in V_0\n",
    "\\end{align}\n",
    "\n",
    "où $V_0 = \\{v\\in H^1(\\Omega) \\, \\lvert \\, u\\lvert_{\\Gamma_\\text{Ouest}} = 0\\}$."
   ]
  },
  {
   "cell_type": "code",
   "execution_count": 15,
   "id": "e3249f45-cdfb-4c89-96b0-2b771e57d571",
   "metadata": {},
   "outputs": [],
   "source": [
    "V = fem.FunctionSpace(domain, (\"Lagrange\", 1))\n",
    "phi = ufl.TrialFunction(V)\n",
    "psi = ufl.TestFunction(V)"
   ]
  },
  {
   "cell_type": "code",
   "execution_count": 16,
   "id": "0407a5a3-c94d-440a-9e44-f75d84bc09dc",
   "metadata": {},
   "outputs": [],
   "source": [
    "k = 0.01\n",
    "a_transport = fem.form((k *ufl.inner(ufl.grad(phi),ufl.grad(psi)) \n",
    "                    + ufl.div(v*phi)*psi)* ufl.dx)"
   ]
  },
  {
   "cell_type": "code",
   "execution_count": 17,
   "id": "7f6a01cb-5f45-4ebd-a69b-f54e40684a47",
   "metadata": {},
   "outputs": [],
   "source": [
    "def input_pollutant(x,y0,L,H):\n",
    "    f = np.zeros(x.shape[1])\n",
    "    t = 0\n",
    "    for vec in x.T:\n",
    "        z = (vec[1] - y0)/L\n",
    "        if np.abs(z)< 1:\n",
    "            f[t] = H * np.exp(1/((z)**2 - 1))\n",
    "        else:\n",
    "            f[t] = 0\n",
    "        t = t+1\n",
    "\n",
    "    return f\n",
    "\n",
    "y0 = 0.3\n",
    "L = 0.2\n",
    "H = 1\n",
    "\n",
    "\n",
    "psi_D = fem.Function(V)\n",
    "psi_D.interpolate(lambda x: input_pollutant(x,y0,L,H))\n",
    "facets = facet_tags.find(5) # Retourne les entités géométrique sur la frontière ouest\n",
    "dofs = fem.locate_dofs_topological(V, 1, facets)\n",
    "bcs = [fem.dirichletbc(psi_D, dofs)]"
   ]
  },
  {
   "cell_type": "code",
   "execution_count": 18,
   "id": "e05091d4-7f44-4466-8056-61ec5b1dde49",
   "metadata": {},
   "outputs": [],
   "source": [
    "f_transport = fem.Constant(domain, 0.0)\n",
    "l_transport =  fem.form(ufl.inner(f_transport,psi) * ufl.dx)"
   ]
  },
  {
   "cell_type": "code",
   "execution_count": 19,
   "id": "ba890372-4a24-4d1b-a8a9-bd4b9daf518c",
   "metadata": {},
   "outputs": [],
   "source": [
    "A = fem.petsc.assemble_matrix(a_transport, bcs=bcs)\n",
    "A.assemble()\n",
    "\n",
    "solver = PETSc.KSP().create(domain.comm)\n",
    "solver.setOperators(A)\n",
    "solver.setType(\"gmres\")\n",
    "solver.getPC().setType(\"ilu\")\n",
    "solver.setTolerances(rtol = 1e-12, atol=1e-12, max_it=500000)\n",
    "\n",
    "b = fem.petsc.create_vector(l_transport)\n",
    "with b.localForm() as loc_b:\n",
    "    loc_b.set(0)\n",
    "fem.petsc.assemble_vector(b, l_transport)\n",
    "fem.petsc.apply_lifting(b, [a_transport], [bcs])\n",
    "b.ghostUpdate(addv=PETSc.InsertMode.ADD_VALUES, mode=PETSc.ScatterMode.REVERSE)\n",
    "fem.petsc.set_bc(b, bcs)\n",
    "\n",
    "phi_h = fem.Function(V)\n",
    "\n",
    "# Solve linear problem\n",
    "solver.solve(b, phi_h.vector)\n",
    "phi_h.x.scatter_forward()"
   ]
  },
  {
   "cell_type": "code",
   "execution_count": 20,
   "id": "d4e87094-5631-4c55-98a5-53c8f0142a0b",
   "metadata": {},
   "outputs": [],
   "source": [
    "phi_h.name = \"Polluant\"\n",
    "with XDMFFile(MPI.COMM_WORLD, \"polluant.xdmf\", \"w\") as xdmf:\n",
    "    xdmf.write_mesh(domain)\n",
    "    xdmf.write_function(phi_h)"
   ]
  },
  {
   "cell_type": "code",
   "execution_count": 21,
   "id": "d4cc2364-6641-4d0a-98b4-63db95a3ef69",
   "metadata": {},
   "outputs": [
    {
     "data": {
      "text/markdown": [
       "<img src=\"./pollutant.png\" width=\"800\"/>"
      ],
      "text/plain": [
       "<IPython.core.display.Markdown object>"
      ]
     },
     "metadata": {},
     "output_type": "display_data"
    }
   ],
   "source": [
    "u_topology, u_cell_types, u_geometry = plot.vtk_mesh(V)\n",
    "u_grid = pyvista.UnstructuredGrid(u_topology, u_cell_types, u_geometry)\n",
    "u_grid.point_data[\"phi\"] = phi_h.x.array.real\n",
    "u_grid.set_active_scalars(\"phi\")\n",
    "u_plotter = pyvista.Plotter()\n",
    "u_plotter.add_mesh(u_grid, show_edges=False)\n",
    "u_plotter.add_mesh(streamlines)\n",
    "\n",
    "u_plotter.view_xy()\n",
    "if not pyvista.OFF_SCREEN:\n",
    "    u_plotter.show()\n",
    "else:\n",
    "    u_plotter.camera.zoom(1.5)\n",
    "    figure = u_plotter.screenshot(\"pollutant.png\")\n",
    "    display(Markdown('<img src=\"./pollutant.png\" width=\"800\"/>'))"
   ]
  },
  {
   "cell_type": "markdown",
   "id": "6d7d2d17-3141-479f-a96b-13f49ac1b6bd",
   "metadata": {},
   "source": [
    "---\n",
    "\n",
    "# Problème adjoint et QoIs\n",
    "\n",
    "La solution du problème adjoint indique comment le chargement influence la quantité d'intérêt. Le problème adjoint pour le problème de transport est: trouver $\\lambda \\in V_0$ tel que\n",
    "\n",
    "\\begin{align}\n",
    "    a(\\phi,\\lambda) &= Q_i(\\phi) \\qquad &&\\forall \\phi \\in V_0\\\\\n",
    "    \\int_\\Omega k \\nabla \\phi \\cdot \\nabla \\lambda + \\nabla \\cdot (v \\phi) \\lambda\\, dx &= \\frac{1}{\\lvert \\Omega_i\\rvert}\\int_{\\Omega_i} \\phi \\, dx \\qquad &&\\forall \\phi \\in V_0\n",
    "\\end{align}\n",
    "\n",
    "La forme forte de ce problème est obtenue en intégrant par parties:\n",
    "\n",
    "\\begin{align}\n",
    "    \\int_\\Omega k \\nabla \\phi \\cdot \\nabla \\lambda + \\nabla \\cdot (v \\phi) \\lambda - \\frac{1}{\\lvert \\Omega_i\\rvert} I_{\\Omega_i}(x) \\phi \\, dx &= 0 \\qquad &&\\forall \\phi \\in V_0 \\\\\n",
    "    \\int_\\Omega \\Big(- \\nabla \\cdot(k\\nabla \\lambda) - (v\\cdot\\nabla\\lambda) - \\frac{1}{\\lvert \\Omega_i\\rvert} I_{\\Omega_i}(x) \\Big)\\phi \\, dx + \\int_{\\partial \\Omega} (n\\cdot k \\nabla \\lambda) \\phi  + (n \\cdot v) \\lambda \\phi  \\, ds   &= 0 \\qquad &&\\forall \\phi \\in V_0 \\\\\n",
    "    \\int_\\Omega \\Big(- \\nabla \\cdot(k\\nabla \\lambda) - (v\\cdot\\nabla\\lambda) - \\frac{1}{\\lvert \\Omega_i\\rvert} I_{\\Omega_i}(x) \\Big)\\phi \\, dx + \\int_{\\partial \\Omega \\setminus \\Gamma_\\text{ouest}} (n\\cdot k \\nabla \\lambda) \\phi \\, ds + \\int_{\\Gamma_\\text{est}} (n \\cdot v) \\lambda \\phi \\, ds &= 0 \\qquad &&\\forall \\phi \\in V_0\n",
    "\\end{align}"
   ]
  },
  {
   "cell_type": "markdown",
   "id": "89e14977-607c-410d-a9d0-1190325d2b2b",
   "metadata": {},
   "source": [
    "En prenant $\\phi \\in V_0$ tel que $\\phi=0$ sur $\\partial \\Omega$, et en appliquant le lemme de Du-Bois Reymond, on obtient\n",
    "\n",
    "\\begin{align}\n",
    "    - \\nabla \\cdot(k\\nabla \\lambda) - (v\\cdot\\nabla\\lambda) = \\frac{1}{\\lvert \\Omega_i\\rvert} I_{\\Omega_i}(x) \\qquad \\text{sur } \\Omega\n",
    "\\end{align}\n",
    "\n",
    "On remarque que le champ de vitesse $v$ est ici inversé par rapport au problème primal initial. En prenant $\\phi \\in V_0$ tel que $\\phi=0$ sur $\\Gamma_\\text{est}$, on obtient\n",
    "\n",
    "\\begin{align}\n",
    "    n \\cdot (k \\nabla \\lambda) = 0 \\qquad \\text{sur } \\partial \\Omega \\setminus \\Gamma_\\text{ouest}\n",
    "\\end{align}\n",
    "\n",
    "Une dernière condition frontière prend cette forme\n",
    "\n",
    "\\begin{align}\n",
    "    (n \\cdot v) \\lambda = 0 \\qquad \\text{sur } \\Gamma_\\text{est}\n",
    "\\end{align}\n",
    "\n",
    "Naturellement, puisque $\\lambda \\in V_0$, une condition de Dirichlet nulle est appliquée sur la frontière $\\Gamma_\\text{ouest}$."
   ]
  },
  {
   "cell_type": "code",
   "execution_count": 22,
   "id": "24e80d50-2382-471f-a536-236e2fcd09b2",
   "metadata": {},
   "outputs": [],
   "source": [
    "a_adjoint = fem.form((k *ufl.inner(ufl.grad(psi),ufl.grad(phi)) \n",
    "                    + ufl.div(v*psi)*phi)* ufl.dx)"
   ]
  },
  {
   "cell_type": "code",
   "execution_count": 23,
   "id": "ae498c95-8705-4075-abf5-4fc491643537",
   "metadata": {},
   "outputs": [],
   "source": [
    "f_lambda_D = fem.Function(V)\n",
    "f_lambda_D.interpolate(lambda x: 0.0*x[0])\n",
    "facets = facet_tags.find(5) # Retourne les entités géométrique sur la frontière ouest\n",
    "dofs = fem.locate_dofs_topological(V, 1, facets) \n",
    "bcs_adjoint = [fem.dirichletbc(f_lambda_D, dofs)]"
   ]
  },
  {
   "cell_type": "code",
   "execution_count": 24,
   "id": "1b4bbcf3-e47f-4260-93d6-bd797b8f67f7",
   "metadata": {},
   "outputs": [],
   "source": [
    "Omega_1 = (1.5,0.0,2.5,0.2)\n",
    "Omega_2 = (4,1.8,4.25,2.0)\n",
    "Omega_3 = (4,0.8,4.25,1.0)\n",
    "Omega_4 = (0.25,0.8,0.5,1.0)\n",
    "\n",
    "Omega_qoi = Omega_3\n",
    "\n",
    "qoi_area = (Omega_qoi[2] - Omega_qoi[0]) * (Omega_qoi[3] - Omega_qoi[1])\n",
    "domain_QoI = lambda x: ufl.conditional(ufl.And(ufl.And(ufl.ge(x[0],Omega_qoi[0]),ufl.le(x[0],Omega_qoi[2])),\n",
    "                                        ufl.And(ufl.ge(x[1],Omega_qoi[1]),ufl.le(x[1],Omega_qoi[3]))), 1/qoi_area, 0)\n",
    "\n",
    "l_adjoint = fem.form(domain_QoI(x) * psi * ufl.dx)"
   ]
  },
  {
   "cell_type": "code",
   "execution_count": 25,
   "id": "ee244183-53a3-4d3d-8eec-a18eb74b4ec1",
   "metadata": {},
   "outputs": [],
   "source": [
    "A_adjoint = fem.petsc.assemble_matrix(a_adjoint, bcs=bcs_adjoint)\n",
    "A_adjoint.assemble()\n",
    "\n",
    "solver_adjoint = PETSc.KSP().create(domain.comm)\n",
    "solver_adjoint.setOperators(A_adjoint)\n",
    "solver_adjoint.setType(\"gmres\")\n",
    "solver_adjoint.getPC().setType(\"ilu\")\n",
    "solver_adjoint.setTolerances(rtol = 1e-12, atol=1e-12, max_it=500000)\n",
    "\n",
    "b_adjoint = fem.petsc.create_vector(l_adjoint)\n",
    "with b_adjoint.localForm() as loc_b:\n",
    "    loc_b.set(0)\n",
    "fem.petsc.assemble_vector(b_adjoint, l_adjoint)\n",
    "fem.petsc.apply_lifting(b_adjoint, [a_adjoint], [bcs_adjoint])\n",
    "b_adjoint.ghostUpdate(addv=PETSc.InsertMode.ADD_VALUES, mode=PETSc.ScatterMode.REVERSE)\n",
    "fem.petsc.set_bc(b_adjoint, bcs_adjoint)\n",
    "\n",
    "lambda_h = fem.Function(V)\n",
    "\n",
    "# Solve linear problem\n",
    "solver_adjoint.solve(b_adjoint, lambda_h.vector)\n",
    "lambda_h.x.scatter_forward()"
   ]
  },
  {
   "cell_type": "code",
   "execution_count": 26,
   "id": "076588b0-dc57-491b-9d77-9e1fc325e1d2",
   "metadata": {},
   "outputs": [],
   "source": [
    "lambda_h.name = \"Adjoint\"\n",
    "with XDMFFile(MPI.COMM_WORLD, \"adjoint.xdmf\", \"w\") as xdmf:\n",
    "    xdmf.write_mesh(domain)\n",
    "    xdmf.write_function(lambda_h)"
   ]
  },
  {
   "cell_type": "code",
   "execution_count": 27,
   "id": "0923bad0-77f2-4c87-93e1-aeb5faf055ce",
   "metadata": {},
   "outputs": [
    {
     "data": {
      "text/markdown": [
       "<img src=\"./adjoint.png\" width=\"800\"/>"
      ],
      "text/plain": [
       "<IPython.core.display.Markdown object>"
      ]
     },
     "metadata": {},
     "output_type": "display_data"
    }
   ],
   "source": [
    "lambda_topology, lambda_cell_types, lambda_geometry = plot.vtk_mesh(V)\n",
    "lambda_grid = pyvista.UnstructuredGrid(lambda_topology, lambda_cell_types, lambda_geometry)\n",
    "lambda_grid.point_data[\"lambda\"] = lambda_h.x.array.real\n",
    "lambda_grid.set_active_scalars(\"lambda\")\n",
    "lambda_plotter = pyvista.Plotter()\n",
    "lambda_plotter.add_mesh(lambda_grid, show_edges=False)\n",
    "# u_plotter.add_mesh(streamlines)\n",
    "\n",
    "lambda_plotter.view_xy()\n",
    "if not pyvista.OFF_SCREEN:\n",
    "    lambda_plotter.show()\n",
    "else:\n",
    "    lambda_plotter.camera.zoom(1.5)\n",
    "    figure = lambda_plotter.screenshot(\"adjoint.png\")\n",
    "    display(Markdown('<img src=\"./adjoint.png\" width=\"800\"/>'))"
   ]
  },
  {
   "cell_type": "code",
   "execution_count": null,
   "id": "c2af4711-4b03-490a-acca-8e957d8b4bd6",
   "metadata": {},
   "outputs": [],
   "source": []
  }
 ],
 "metadata": {
  "kernelspec": {
   "display_name": "Python 3 (ipykernel)",
   "language": "python",
   "name": "python3"
  },
  "language_info": {
   "codemirror_mode": {
    "name": "ipython",
    "version": 3
   },
   "file_extension": ".py",
   "mimetype": "text/x-python",
   "name": "python",
   "nbconvert_exporter": "python",
   "pygments_lexer": "ipython3",
   "version": "3.10.12"
  }
 },
 "nbformat": 4,
 "nbformat_minor": 5
}
