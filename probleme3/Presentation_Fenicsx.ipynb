{
 "cells": [
  {
   "cell_type": "markdown",
   "id": "e1ce8896-2072-4fa6-807a-dcda1efb475b",
   "metadata": {
    "tags": []
   },
   "source": [
    "# Présentation du code Open-Source FEniCSx\n",
    "\n",
    "---\n",
    "\n",
    "## Contenu du cours\n",
    "1. Structure d'un code éléments finis\n",
    "2. Résolution du devoir 3\n",
    "    * Utilisation du code FEniCSx à haut niveau\n",
    "    * Utilisation du code FEniCSx et PETSC\n",
    "3. Présentation de l'adjoint\n",
    "    * Problème couplé\n",
    "    * Définition du problème adjoint\n",
    "\n",
    "\n",
    "---"
   ]
  },
  {
   "cell_type": "markdown",
   "id": "08165d19",
   "metadata": {},
   "source": [
    "# Structure d'un code éléments finis\n",
    "\n",
    "<img src=\"diagram_fenicsx.svg\" alt=\"Structure code Fenicsx\" width=\"800\"/>"
   ]
  },
  {
   "cell_type": "markdown",
   "id": "d642af62-3114-4c8e-a834-33ee064a4427",
   "metadata": {},
   "source": [
    "---\n",
    "\n",
    "# Problème 2a) du devoir 3\n",
    "\n",
    "On reprend le problème du devoir 3, où l'on étudie la déflection d'une corde. Cette déflection est modélisée par l'équation de la caténaire  linéarisée:\n",
    "\n",
    "\\begin{align}\n",
    "    -k u''(x) &= -\\rho g \\qquad &&\\forall x\\in \\Omega = (0,L),\\\\\n",
    "    u(0) &= 0, &&\\\\\n",
    "    k u'(L) &= t, &&\n",
    "\\end{align}\n",
    "\n",
    "où $t\\in\\mathbb{R}$. On considère l'espace $V = \\{v\\in H^1(0,L)\\,|\\, v(0)=0\\}$. La forme faible de ce problème est\n",
    "\n",
    "\\begin{align}\n",
    "    \\int_0^L k u'(x) v'(x)\\, dx = \\int_0^L f(x) v(x)\\, dx + t v(L) \\qquad \\forall v \\in V\n",
    "\\end{align}\n",
    "\n",
    "Le maillage employé pour ce problème est le suivant\n",
    "\n",
    "<img src=\"./mesh_corde.svg\" alt=\"Structure code Fenicsx\" width=\"800\"/>"
   ]
  },
  {
   "cell_type": "markdown",
   "id": "6c8d9c35-41fa-46c1-9b87-7523883fbe8f",
   "metadata": {},
   "source": [
    "## Importation des modules nécessaires"
   ]
  },
  {
   "cell_type": "code",
   "execution_count": 3,
   "id": "c54194ca-556d-4996-8774-e75780efe189",
   "metadata": {},
   "outputs": [],
   "source": [
    "# %pip install ipyvtklink\n",
    "\n",
    "import numpy as np\n",
    "import pyvista\n",
    "\n",
    "import ufl # Package pour manipuler les formes bilinéaires et linéaires\n",
    "from dolfinx import fem, plot # Package pour l'assemblage et pour l'affichage\n",
    "from dolfinx.io import XDMFFile, gmshio # Package avec des fonctions pour l'input/output de données\n",
    "\n",
    "from mpi4py import MPI\n",
    "from petsc4py import PETSc\n"
   ]
  },
  {
   "cell_type": "markdown",
   "id": "60923cce-9822-4f12-a151-79aa28d4e1bd",
   "metadata": {},
   "source": [
    "## Définition du maillage\n",
    "\n",
    "2 approches peuvent être employées afin de définir un maillage:\n",
    "1. Utiliser les maillages simples de FEniCSx,\n",
    "2. Importer ou créer un maillage avec GMSH.\n",
    "\n",
    "On adoptera la seconde approche puisqu'elle se généralise mieux et permet de le traitement simplifiés des conditions frontières."
   ]
  },
  {
   "cell_type": "code",
   "execution_count": 4,
   "id": "34c491a1-2033-4072-8d14-ab66642b4105",
   "metadata": {},
   "outputs": [
    {
     "name": "stdout",
     "output_type": "stream",
     "text": [
      "Info    : Reading 'corde.msh'...\n",
      "Info    : 9 entities\n",
      "Info    : 11 nodes\n",
      "Info    : 15 elements\n",
      "Info    : Done reading 'corde.msh'\n"
     ]
    }
   ],
   "source": [
    "# (domain, cell_tags, facet_tags) = gmshio.read_from_msh(\"./data/mesh/verification/unit_square.msh\", MPI.COMM_WORLD, gdim=2)\n",
    "(domain, cell_tags, facet_tags) = gmshio.read_from_msh(\"corde.msh\", MPI.COMM_WORLD, gdim=1)\n",
    "\n",
    "x = ufl.SpatialCoordinate(domain) # Coordonnées pour la définition des formes\n",
    "ds = ufl.Measure(\"ds\", domain=domain, subdomain_data=facet_tags) # ds(i) contient l'information sur la i-ème frontière\n",
    "nMesh = ufl.FacetNormal(domain) # Vecteur normal au domaine"
   ]
  },
  {
   "cell_type": "markdown",
   "id": "b98d7ab4-b758-4749-b7c6-2e5f693caa2e",
   "metadata": {},
   "source": [
    "## Définition des paramètres du problème"
   ]
  },
  {
   "cell_type": "code",
   "execution_count": 5,
   "id": "f86301a0-f7a8-4065-9dfa-db2e923782e8",
   "metadata": {},
   "outputs": [],
   "source": [
    "L = 1\n",
    "t = 5\n",
    "k = 10\n",
    "rho_g = 10"
   ]
  },
  {
   "cell_type": "markdown",
   "id": "49ba757f-afd3-4488-a5f0-ffe7770a1fc5",
   "metadata": {},
   "source": [
    "## Définition de l'espace éléments finis $V$"
   ]
  },
  {
   "cell_type": "code",
   "execution_count": 36,
   "id": "4bebdbf6-bcb4-426e-9134-85e45cf01415",
   "metadata": {},
   "outputs": [],
   "source": [
    "degre = 2\n",
    "V = fem.FunctionSpace(domain, (\"Lagrange\", degre))\n",
    "u = ufl.TrialFunction(V)\n",
    "v = ufl.TestFunction(V)"
   ]
  },
  {
   "cell_type": "markdown",
   "id": "ee4c94cc-b3a1-494a-9e86-ebfdadfffca2",
   "metadata": {},
   "source": [
    "## Définition de la forme bilinéaire"
   ]
  },
  {
   "cell_type": "code",
   "execution_count": 37,
   "id": "3b605ecc-e851-4452-ba7f-ff440bf62292",
   "metadata": {},
   "outputs": [],
   "source": [
    "bilinear = k * ufl.inner(ufl.grad(u), ufl.grad(v)) * ufl.dx"
   ]
  },
  {
   "cell_type": "markdown",
   "id": "e6633b48-f730-40f6-bae0-9cbdac60f316",
   "metadata": {},
   "source": [
    "## Définition des conditions frontières et de la forme linéaire\n",
    "\n",
    "On définit tout d'abord les conditions de Dirichlet en créant une fonction appartenant à $V$. Cette fonction interpolera la ou les conditions de Dirichlet (cette fonction peut être interprétée comme le relèvement)."
   ]
  },
  {
   "cell_type": "code",
   "execution_count": 38,
   "id": "27700458-e140-4e42-b553-559000a38793",
   "metadata": {},
   "outputs": [],
   "source": [
    "def fct_Dirichlet2(x):\n",
    "    return 0.0* x[0] # x[0] de renvoyer un array de bonne structure, car x est un array de dim x nb_points \n",
    "\n",
    "u_D = fem.Function(V)\n",
    "u_D.interpolate(fct_Dirichlet2)\n",
    "facets = facet_tags.find(1) # Retourne les entités géométrique sur la frontière 1 (le noeud à gauche pour ce problème)\n",
    "dofs = fem.locate_dofs_topological(V, 0, facets) # Retourne les dofs sur la frontière 1 (le noeud à gauche pour ce problème)\n",
    "bcs = fem.dirichletbc(u_D, dofs)"
   ]
  },
  {
   "cell_type": "markdown",
   "id": "f0947038-7e34-420e-9ae2-0a4e1d03c053",
   "metadata": {},
   "source": [
    "On définit la forme linéaire en incorporant la condition de Neumann"
   ]
  },
  {
   "cell_type": "code",
   "execution_count": 39,
   "id": "d39a98d2-c81b-43a3-a126-a15bdae06d6b",
   "metadata": {},
   "outputs": [],
   "source": [
    "f = -rho_g\n",
    "linear_a = f*v*ufl.dx + t*v*ds(5)"
   ]
  },
  {
   "cell_type": "markdown",
   "id": "d4b02e32-7268-4348-a276-0cdc1e57f3a3",
   "metadata": {},
   "source": [
    "## Assemblage et résolution du système linéaire"
   ]
  },
  {
   "cell_type": "code",
   "execution_count": 40,
   "id": "11c33f66-6fe5-4c6e-a4e6-8a4c76e381f8",
   "metadata": {},
   "outputs": [],
   "source": [
    "problem_a = fem.petsc.LinearProblem(bilinear, linear_a, bcs=[bcs], petsc_options={\"ksp_type\": \"preonly\", \"pc_type\": \"lu\"}) # Factorisation LU\n",
    "uh_a = problem_a.solve()"
   ]
  },
  {
   "cell_type": "code",
   "execution_count": 58,
   "id": "6a7fdf02-7cc7-43f9-83d0-f0eb71436630",
   "metadata": {},
   "outputs": [
    {
     "data": {
      "application/vnd.jupyter.widget-view+json": {
       "model_id": "87a1b75b1aec4220abf6c776ffa49adc",
       "version_major": 2,
       "version_minor": 0
      },
      "text/plain": [
       "Renderer(camera=PerspectiveCamera(aspect=1.3333333333333333, children=(DirectionalLight(intensity=0.25, positi…"
      ]
     },
     "metadata": {},
     "output_type": "display_data"
    }
   ],
   "source": [
    "pyvista.set_jupyter_backend(\"pythreejs\")\n",
    "\n",
    "cells, types, coord = plot.create_vtk_mesh(V)\n",
    "pdata = pyvista.PolyData(coord)\n",
    "pdata.lines = cells\n",
    "pdata.point_data[\"u\"] = uh_a.x.array.real\n",
    "pdata.set_active_scalars(\"u\")\n",
    "plotter = pyvista.Plotter()\n",
    "plotter.add_mesh(pdata, style='points',show_edges=True,color='black')\n",
    "plotter.add_mesh(pdata, show_edges=True,color='black')\n",
    "warped = pdata.warp_by_scalar()\n",
    "plotter.add_mesh(warped)\n",
    "plotter.view_xz()\n",
    "if not pyvista.OFF_SCREEN:\n",
    "    plotter.show()\n",
    "else:\n",
    "    pyvista.start_xvfb()\n",
    "    figure = plotter.screenshot(\"sol_a.png\")"
   ]
  },
  {
   "cell_type": "markdown",
   "id": "7b9d66c0-5f9f-4a4f-abfa-1c8f279fe3f7",
   "metadata": {},
   "source": [
    "## Calcul de l'erreur\n",
    "\n",
    "On calcule l'erreur en interpolant la solution exacte sur un espace éléments finis enrichis. La solution exacte est\n",
    "\n",
    "\\begin{align}\n",
    "    u(x) = -\\frac{x(1-x)}{2}, \\qquad x\\in [0,1]\n",
    "\\end{align}\n",
    "\n",
    "On prendra ici des éléments de Lagrange d'un degré plus élevé. "
   ]
  },
  {
   "cell_type": "code",
   "execution_count": 42,
   "id": "23426a2f-caaf-4039-8264-3fa1bbe9742d",
   "metadata": {},
   "outputs": [],
   "source": [
    "uex_a_fct = lambda x: -x[0] * (1-x[0])/2\n",
    "\n",
    "Vplus = fem.FunctionSpace(domain, (\"Lagrange\", degre + 1))\n",
    "\n",
    "uex = fem.Function(Vplus)\n",
    "uex.interpolate(uex_a_fct)\n",
    "\n",
    "error = uh_a - uex\n",
    "\n",
    "L2_form = fem.form(ufl.inner(error, error) * ufl.dx)\n",
    "L2_local = fem.assemble_scalar(L2_form)\n",
    "L2 = np.sqrt(domain.comm.allreduce(L2_local, op=MPI.SUM))\n",
    "\n",
    "H1_semi_form = fem.form(ufl.inner(ufl.grad(error), ufl.grad(error)) * ufl.dx)\n",
    "H1_semi_local = fem.assemble_scalar(H1_semi_form)\n",
    "H1 = np.sqrt(L2**2 + domain.comm.allreduce(H1_semi_local, op=MPI.SUM))"
   ]
  },
  {
   "cell_type": "code",
   "execution_count": 43,
   "id": "670ee2f3-80e7-449a-ba0a-58a276d48f83",
   "metadata": {},
   "outputs": [
    {
     "name": "stdout",
     "output_type": "stream",
     "text": [
      "Erreur L2: 2.649799250827198e-15\n",
      "Erreur H1: 5.2563520003802096e-15\n"
     ]
    }
   ],
   "source": [
    "print(f\"Erreur L2: {L2}\")\n",
    "print(f\"Erreur H1: {H1}\")"
   ]
  },
  {
   "cell_type": "markdown",
   "id": "d82cfb9d-81e7-4265-8238-70cc26fc8fd8",
   "metadata": {},
   "source": [
    "On peut aussi calculer l'erreur en chaque point du maillage. Pour ce faire, il faut interpoler la solution exacte sur le même espace fonctionelle $V_1$"
   ]
  },
  {
   "cell_type": "code",
   "execution_count": 59,
   "id": "e3ab7114-d935-4756-bceb-3f1e92ec1601",
   "metadata": {},
   "outputs": [
    {
     "data": {
      "application/vnd.jupyter.widget-view+json": {
       "model_id": "be1dcf58d82b46bd8fa4082b1ec0be3a",
       "version_major": 2,
       "version_minor": 0
      },
      "text/plain": [
       "Renderer(camera=PerspectiveCamera(aspect=1.3333333333333333, children=(DirectionalLight(intensity=0.25, positi…"
      ]
     },
     "metadata": {},
     "output_type": "display_data"
    }
   ],
   "source": [
    "uex_interV = fem.Function(V)\n",
    "uex_interV.interpolate(uex_a_fct)\n",
    "\n",
    "cells, types, coord = plot.create_vtk_mesh(V)\n",
    "pdata = pyvista.PolyData(coord)\n",
    "pdata.lines = cells\n",
    "pdata.point_data[\"u\"] = np.abs(uh_a.x.array.real[:] - uex_interV.x.array.real[:])\n",
    "pdata.set_active_scalars(\"u\")\n",
    "plotter = pyvista.Plotter()\n",
    "plotter.add_mesh(pdata, style='points',show_edges=True,color='black')\n",
    "plotter.add_mesh(pdata,show_edges=True,color='black')\n",
    "\n",
    "warped = pdata.warp_by_scalar()\n",
    "plotter.add_mesh(warped, style='points',show_edges=True)\n",
    "plotter.view_xz()\n",
    "if not pyvista.OFF_SCREEN:\n",
    "    plotter.show()\n",
    "else:\n",
    "    pyvista.start_xvfb()\n",
    "    figure = plotter.screenshot(\"erreur_node.png\")"
   ]
  },
  {
   "cell_type": "markdown",
   "id": "3b3e7cc5-205c-48cd-a6f7-4d8ca3089c84",
   "metadata": {},
   "source": [
    "---\n",
    "\n",
    "# Problème 2b) du devoir 3\n",
    "\n",
    "Pour ce problème, on change le terme source pour\n",
    "\n",
    "\\begin{align}\n",
    "    f(x) = -\\rho g - f_0 \\delta(x-x_0),\n",
    "\\end{align}\n",
    "\n",
    "où $f_0=20$ et $x_0=0.4$. Ce chargement correspond donc au poids de la corde additionné d'une force ponctuelle de valeur $f_0$ appliquée en $x=x_0$.\n",
    "\n",
    "Ce problème est un peu plus compliqué à résoudre, mais cela nous permet d'utiliser FEniCSx à un niveau plus bas i.e. en assemblant nous même le système linéaire à résoudre."
   ]
  },
  {
   "cell_type": "markdown",
   "id": "c8d8ff4c-4203-49e1-94b4-0e1eb85313d5",
   "metadata": {},
   "source": [
    "## Assemblage de la matrice $A$"
   ]
  },
  {
   "cell_type": "code",
   "execution_count": 45,
   "id": "1c8a7b8f-00d2-4860-ada5-633d911b3863",
   "metadata": {},
   "outputs": [],
   "source": [
    "bilinear_form = fem.form(bilinear)\n",
    "linear_form = fem.form(linear_a)\n",
    "\n",
    "A = fem.petsc.assemble_matrix(bilinear_form, bcs=[bcs])\n",
    "A.assemble()"
   ]
  },
  {
   "cell_type": "markdown",
   "id": "300f7c06-6e11-481c-bd98-cdec96f5c0ad",
   "metadata": {},
   "source": [
    "## Assemblage du terme de droite $B$\n",
    "\n",
    "Le terme de droite est un peu plus compliqué à assembler. On doit tout d'abord appliquer le \"lifting\" des conditions de Dirichlet et ensuite appliquer ces mêmes valeurs de Dirichlet."
   ]
  },
  {
   "cell_type": "code",
   "execution_count": 46,
   "id": "432475bb-91ac-48fe-aaf0-47c8a13faebd",
   "metadata": {},
   "outputs": [],
   "source": [
    "b = fem.petsc.create_vector(linear_form)\n",
    "\n",
    "# with b.localForm() as loc_b:\n",
    "#         loc_b.set(0)\n",
    "fem.petsc.assemble_vector(b, linear_form)\n",
    "\n",
    "# Apply Dirichlet boundary condition to the vector\n",
    "fem.petsc.apply_lifting(b, [bilinear_form], [[bcs]])\n",
    "b.ghostUpdate(addv=PETSc.InsertMode.ADD_VALUES, mode=PETSc.ScatterMode.REVERSE)\n",
    "fem.petsc.set_bc(b, [bcs])"
   ]
  },
  {
   "cell_type": "markdown",
   "id": "7a718130-469e-44a6-bdb3-9b04cdd2c7f6",
   "metadata": {},
   "source": [
    "Finalement, il faut ajouter le terme de Dirac au vecteur. On calcule le terme à ajouter\n",
    "\n",
    "\\begin{align}\n",
    "    -\\int_0^L f_0 \\delta(x - x_0)v(x)\\, dx = -f_0(x_0)v(x_0)\n",
    "\\end{align}\n",
    "\n",
    "Puisque l'on emploie des éléments de Lagrange, il faut identifier le degré de liberté qui ne vaut pas 0 en $x=x_0$.  "
   ]
  },
  {
   "cell_type": "code",
   "execution_count": 47,
   "id": "f30145cc-5a92-47e7-b34c-63be810a026b",
   "metadata": {},
   "outputs": [],
   "source": [
    "facets_x0 = facet_tags.find(3) # Retourne les entités géométrique sur la frontière 3 (le noeud exactement à x=0.4)\n",
    "dofs_x0 = fem.locate_dofs_topological(V, 0, facets_x0)\n",
    "\n",
    "f_0 = -20\n",
    "\n",
    "b.setValue(dofs_x0,f_0,addv=PETSc.InsertMode.ADD_VALUES)\n",
    "b.assemblyBegin()\n",
    "b.assemblyEnd()"
   ]
  },
  {
   "cell_type": "markdown",
   "id": "d7b32da5-7d59-45e9-a23a-198535894481",
   "metadata": {},
   "source": [
    "## Résolution du système linéaire\n",
    "\n",
    "On peut maintenant faire appel à la libraire PETSC qui permet de résoudre des systèmes linéaires en parallèle. On peut ainsi avoir beacoup de contrôle sur quel type de solveur et de préconditionneur sont employés, les tolérances et le nombre d'itérations maximal."
   ]
  },
  {
   "cell_type": "code",
   "execution_count": 48,
   "id": "d824b3c0-f6c5-4307-9938-99f3510586dc",
   "metadata": {},
   "outputs": [],
   "source": [
    "solver = PETSc.KSP().create(domain.comm)\n",
    "solver.setOperators(A)\n",
    "solver.setType(\"preonly\")\n",
    "solver.getPC().setType(\"lu\")\n",
    "\n",
    "uh_b = fem.Function(V)\n",
    "\n",
    "# Solve linear problem\n",
    "solver.solve(b, uh_b.vector)\n",
    "uh_b.x.scatter_forward()"
   ]
  },
  {
   "cell_type": "code",
   "execution_count": 60,
   "id": "f4adeacb-d936-4ddb-9080-d22f4863c3e5",
   "metadata": {},
   "outputs": [
    {
     "data": {
      "application/vnd.jupyter.widget-view+json": {
       "model_id": "dc9006e65c67416292b68586da15ee27",
       "version_major": 2,
       "version_minor": 0
      },
      "text/plain": [
       "Renderer(camera=PerspectiveCamera(aspect=1.3333333333333333, children=(DirectionalLight(intensity=0.25, positi…"
      ]
     },
     "metadata": {},
     "output_type": "display_data"
    }
   ],
   "source": [
    "pyvista.set_jupyter_backend(\"pythreejs\")\n",
    "\n",
    "cells, types, coord = plot.create_vtk_mesh(V)\n",
    "pdata = pyvista.PolyData(coord)\n",
    "pdata.lines = cells\n",
    "pdata.point_data[\"u\"] = uh_b.x.array.real\n",
    "pdata.set_active_scalars(\"u\")\n",
    "plotter = pyvista.Plotter()\n",
    "plotter.add_mesh(pdata, style='points',show_edges=True,color='black')\n",
    "plotter.add_mesh(pdata, show_edges=True,color='black')\n",
    "\n",
    "warped = pdata.warp_by_scalar()\n",
    "plotter.add_mesh(warped)\n",
    "plotter.view_xz()\n",
    "if not pyvista.OFF_SCREEN:\n",
    "    plotter.show()\n",
    "else:\n",
    "    pyvista.start_xvfb()\n",
    "    figure = plotter.screenshot(\"sol_b.png\")"
   ]
  },
  {
   "cell_type": "markdown",
   "id": "8e16ac6c-8ba6-4200-b895-c7c4f770e08e",
   "metadata": {},
   "source": [
    "## Calcul de l'erreur\n",
    "\n",
    "La solution exacte de ce problème avec ce chargement Dirac additionel est\n",
    "\n",
    "\\begin{align}\n",
    "    u(x) = -\\frac{x(1-x)}{2} - \\begin{cases} 2x & x\\in [0,0.4] \\\\\n",
    "     4/5 & x\\in[0.4,1]\\end{cases}\n",
    "\\end{align}\n",
    "\n",
    "On peut encore une fois représenter exactement cette solution avec un espace discret composé de polynomes de degré 2."
   ]
  },
  {
   "cell_type": "code",
   "execution_count": 50,
   "id": "04d9d3ad-9687-41dd-b878-4666236bc822",
   "metadata": {},
   "outputs": [],
   "source": [
    "def uex_b_fct(x):\n",
    "    f = np.zeros(np.size(x,1))\n",
    "    f = -x[0]*(1-x[0])/2 - 2*x[0] * (x[0] <=0.4) + -4/5 * (x[0]>0.4)\n",
    "    return f\n",
    "\n",
    "uex = fem.Function(Vplus)\n",
    "uex.interpolate(uex_b_fct)\n",
    "\n",
    "error = uh_b - uex\n",
    "\n",
    "L2_form = fem.form(ufl.inner(error, error) * ufl.dx)\n",
    "L2_local = fem.assemble_scalar(L2_form)\n",
    "L2 = np.sqrt(domain.comm.allreduce(L2_local, op=MPI.SUM))\n",
    "\n",
    "H1_semi_form = fem.form(ufl.inner(ufl.grad(error), ufl.grad(error)) * ufl.dx)\n",
    "H1_semi_local = fem.assemble_scalar(H1_semi_form)\n",
    "H1 = np.sqrt(L2**2 + domain.comm.allreduce(H1_semi_local, op=MPI.SUM))"
   ]
  },
  {
   "cell_type": "code",
   "execution_count": 51,
   "id": "7b217356-3576-455b-a2b4-c0002ed7f595",
   "metadata": {},
   "outputs": [
    {
     "name": "stdout",
     "output_type": "stream",
     "text": [
      "Erreur L2: 2.3398143127120012e-14\n",
      "Erreur H1: 4.483872884727257e-14\n"
     ]
    }
   ],
   "source": [
    "print(f\"Erreur L2: {L2}\")\n",
    "print(f\"Erreur H1: {H1}\")"
   ]
  },
  {
   "cell_type": "markdown",
   "id": "8facf1f5-56ce-45fd-b096-cd738d6f3130",
   "metadata": {},
   "source": [
    "---\n",
    "\n",
    "# Problème 2c) du devoir 3\n",
    "\n",
    "Pour ce problème, on change le terme source pour\n",
    "\n",
    "\\begin{align}\n",
    "    f(x) = -\\rho g - f_0 x^2\\big[H(x-x_1) - H(x-x_2)\\big],\n",
    "\\end{align}\n",
    "\n",
    "où $f_0=500$ et $x_1=0.2$ et $x_2=0.6$. Ce chargement correspond donc au poids de la corde additionné d'une force ponctuelle de valeur $f_0$ appliquée en $x=x_0$.\n"
   ]
  },
  {
   "cell_type": "code",
   "execution_count": 52,
   "id": "0330bbda-9a33-41c3-859c-6863f99bd612",
   "metadata": {},
   "outputs": [],
   "source": [
    "f_0 = 500\n",
    "l_charge = ufl.conditional(ufl.And(ufl.ge(x[0],0.2),ufl.le(x[0],0.6)),-f_0 * x[0]**2,0)\n",
    "\n",
    "linear_c = linear_a + l_charge*v*ufl.dx"
   ]
  },
  {
   "cell_type": "code",
   "execution_count": 53,
   "id": "ebc0d72f-aa2f-4ed7-bc86-f6b081f0b483",
   "metadata": {},
   "outputs": [],
   "source": [
    "problem_c = fem.petsc.LinearProblem(bilinear, linear_c, bcs=[bcs], petsc_options={\"ksp_type\": \"preonly\", \"pc_type\": \"lu\"})\n",
    "uh_c = problem_c.solve()"
   ]
  },
  {
   "cell_type": "code",
   "execution_count": 61,
   "id": "e606bb71-574f-4ece-a2ee-ec2fd1416925",
   "metadata": {},
   "outputs": [
    {
     "data": {
      "application/vnd.jupyter.widget-view+json": {
       "model_id": "a80d53c6df2044ea9e735b307179776b",
       "version_major": 2,
       "version_minor": 0
      },
      "text/plain": [
       "Renderer(camera=PerspectiveCamera(aspect=1.3333333333333333, children=(DirectionalLight(intensity=0.25, positi…"
      ]
     },
     "metadata": {},
     "output_type": "display_data"
    }
   ],
   "source": [
    "cells, types, coord = plot.create_vtk_mesh(V)\n",
    "pdata = pyvista.PolyData(coord)\n",
    "pdata.lines = cells\n",
    "pdata.point_data[\"u\"] = uh_c.x.array.real\n",
    "pdata.set_active_scalars(\"u\")\n",
    "plotter = pyvista.Plotter()\n",
    "plotter.add_mesh(pdata, style='points',show_edges=True,color='black')\n",
    "plotter.add_mesh(pdata, show_edges=True,color='black')\n",
    "\n",
    "warped = pdata.warp_by_scalar()\n",
    "plotter.add_mesh(warped)\n",
    "plotter.view_xz()\n",
    "if not pyvista.OFF_SCREEN:\n",
    "    plotter.show()\n",
    "else:\n",
    "    pyvista.start_xvfb()\n",
    "    figure = plotter.screenshot(\"sol_c.png\")"
   ]
  },
  {
   "cell_type": "markdown",
   "id": "6443a85b-a8a5-4bd3-9819-fff0127d876a",
   "metadata": {},
   "source": [
    "## Calcul de l'erreur\n",
    "\n",
    "Avec ce nouveau chargement, la solution exacte est \n",
    "\n",
    "\\begin{align}\n",
    "    u(x) = -\\frac{x(1-x)}{2} - \\begin{cases} \\frac{52}{15}x & x\\in [0,0.2] \\\\\n",
    "     -\\frac{25}{6}x^4 + \\frac{18}{5}x - \\frac{1}{50} & x\\in[0.2,0.6] \\\\\n",
    "     \\frac{8}{5} & x\\in[0.6,1]\\end{cases}\n",
    "\\end{align}"
   ]
  },
  {
   "cell_type": "code",
   "execution_count": 55,
   "id": "d5c8aecc-e316-46e0-91be-91dfb98d5339",
   "metadata": {},
   "outputs": [],
   "source": [
    "def uex_c_fct(x):\n",
    "    f = np.zeros(np.size(x,1))\n",
    "    f = -x[0]*(1-x[0])/2\n",
    "    f = f - 52/15*x[0] * (x[0] <=0.2)\n",
    "    f = f - (-25/6*x[0]**4 + 18/5*x[0] - 1/50) * ((x[0] > 0.2) & (x[0] < 0.6))\n",
    "    f = f - 8/5 * (x[0]>=0.6)\n",
    "    return f\n",
    "\n",
    "uex = fem.Function(Vplus)\n",
    "uex.interpolate(uex_c_fct)\n",
    "\n",
    "error = uh_c - uex\n",
    "\n",
    "L2_form = fem.form(ufl.inner(error, error) * ufl.dx)\n",
    "L2_local = fem.assemble_scalar(L2_form)\n",
    "L2 = np.sqrt(domain.comm.allreduce(L2_local, op=MPI.SUM))\n",
    "\n",
    "H1_semi_form = fem.form(ufl.inner(ufl.grad(error), ufl.grad(error)) * ufl.dx)\n",
    "H1_semi_local = fem.assemble_scalar(H1_semi_form)\n",
    "H1 = np.sqrt(L2**2 + domain.comm.allreduce(H1_semi_local, op=MPI.SUM))"
   ]
  },
  {
   "cell_type": "code",
   "execution_count": 56,
   "id": "6295de25-f4b2-42fd-9a05-cc49bbe278e0",
   "metadata": {},
   "outputs": [
    {
     "name": "stdout",
     "output_type": "stream",
     "text": [
      "Erreur L2: 0.0001510544945280732\n",
      "Erreur H1: 0.009790615445087317\n"
     ]
    }
   ],
   "source": [
    "print(f\"Erreur L2: {L2}\")\n",
    "print(f\"Erreur H1: {H1}\")"
   ]
  },
  {
   "cell_type": "code",
   "execution_count": 57,
   "id": "d92ea1cd-0bee-46bf-b657-d3c5d8df26d8",
   "metadata": {},
   "outputs": [
    {
     "name": "stdout",
     "output_type": "stream",
     "text": [
      "Interpolation de l'erreur pour 5 éléments quadratiques\n",
      "Erreur L2: 0.0012084359562245855\n",
      "Erreur H1: 0.03916246178034927\n"
     ]
    }
   ],
   "source": [
    "if degre == 2:\n",
    "    print(\"Interpolation de l'erreur pour 5 éléments quadratiques\")\n",
    "    print(f\"Erreur L2: {8*L2}\")\n",
    "    print(f\"Erreur H1: {4*H1}\")"
   ]
  }
 ],
 "metadata": {
  "kernelspec": {
   "display_name": "Python 3 (ipykernel)",
   "language": "python",
   "name": "python3"
  },
  "language_info": {
   "codemirror_mode": {
    "name": "ipython",
    "version": 3
   },
   "file_extension": ".py",
   "mimetype": "text/x-python",
   "name": "python",
   "nbconvert_exporter": "python",
   "pygments_lexer": "ipython3",
   "version": "3.10.4"
  }
 },
 "nbformat": 4,
 "nbformat_minor": 5
}
