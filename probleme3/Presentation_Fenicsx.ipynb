{
 "cells": [
  {
   "cell_type": "markdown",
   "id": "e1ce8896-2072-4fa6-807a-dcda1efb475b",
   "metadata": {
    "tags": []
   },
   "source": [
    "# Présentation du code Open-Source FEniCSx\n",
    "\n",
    "---\n",
    "\n",
    "## Contenu du cours\n",
    "1. Structure d'un code éléments finis\n",
    "2. Résolution du devoir 3\n",
    "    * Utilisation du code FEniCSx à haut niveau\n",
    "    * Utilisation du code FEniCSx et PETSC\n",
    "3. Présentation de l'adjoint\n",
    "    * Problème couplé\n",
    "    * Définition du problème adjoint\n",
    "\n",
    "\n",
    "---"
   ]
  },
  {
   "cell_type": "markdown",
   "id": "08165d19",
   "metadata": {},
   "source": [
    "# Structure d'un code éléments finis\n",
    "\n",
    "<img src=\"diagram_fenicsx.svg\" alt=\"Structure code Fenicsx\" width=\"800\"/>"
   ]
  },
  {
   "cell_type": "markdown",
   "id": "d642af62-3114-4c8e-a834-33ee064a4427",
   "metadata": {},
   "source": [
    "---\n",
    "\n",
    "# Problème 2a) du devoir 3\n",
    "\n",
    "On reprend le problème du devoir 3, où l'on étudie la déflection d'une corde. Cette déflection est modélisée par l'équation de la caténaire  linéarisée:\n",
    "\n",
    "\\begin{align}\n",
    "    -k u''(x) &= -\\rho g \\qquad &&\\forall x\\in \\Omega = (0,L),\\\\\n",
    "    u(0) &= 0, &&\\\\\n",
    "    k u'(L) &= t, &&\n",
    "\\end{align}\n",
    "\n",
    "où $t\\in\\mathbb{R}$. On considère l'espace $V = \\{v\\in H^1(0,L)\\,|\\, v(0)=0\\}$. La forme faible de ce problème est\n",
    "\n",
    "\\begin{align}\n",
    "    \\int_0^L k u'(x) v'(x)\\, dx = \\int_0^L f(x) v(x)\\, dx + t v(L) \\qquad \\forall v \\in V\n",
    "\\end{align}\n",
    "\n",
    "Le maillage employé pour ce problème est le suivant\n",
    "\n",
    "<img src=\"./mesh_corde.svg\" alt=\"Structure code Fenicsx\" width=\"800\"/>"
   ]
  },
  {
   "cell_type": "markdown",
   "id": "6c8d9c35-41fa-46c1-9b87-7523883fbe8f",
   "metadata": {},
   "source": [
    "## Importation des modules nécessaires"
   ]
  },
  {
   "cell_type": "code",
   "execution_count": 1,
   "id": "c54194ca-556d-4996-8774-e75780efe189",
   "metadata": {},
   "outputs": [
    {
     "name": "stdout",
     "output_type": "stream",
     "text": [
      "Requirement already satisfied: ipywidgets in /usr/local/lib/python3.10/dist-packages (8.1.1)\n",
      "Requirement already satisfied: pyvista[all,trame] in /usr/local/lib/python3.10/dist-packages (0.42.2)\n",
      "Requirement already satisfied: comm>=0.1.3 in /usr/local/lib/python3.10/dist-packages (from ipywidgets) (0.2.0)\n",
      "Requirement already satisfied: ipython>=6.1.0 in /usr/local/lib/python3.10/dist-packages (from ipywidgets) (8.17.2)\n",
      "Requirement already satisfied: traitlets>=4.3.1 in /usr/local/lib/python3.10/dist-packages (from ipywidgets) (5.11.2)\n",
      "Requirement already satisfied: widgetsnbextension~=4.0.9 in /usr/local/lib/python3.10/dist-packages (from ipywidgets) (4.0.9)\n",
      "Requirement already satisfied: jupyterlab-widgets~=3.0.9 in /usr/local/lib/python3.10/dist-packages (from ipywidgets) (3.0.9)\n",
      "\u001b[33mWARNING: pyvista 0.42.2 does not provide the extra 'trame'\u001b[0m\u001b[33m\n",
      "\u001b[0mRequirement already satisfied: matplotlib>=3.0.1 in /usr/local/lib/python3.10/dist-packages (from pyvista[all,trame]) (3.8.0)\n",
      "Requirement already satisfied: numpy in /usr/local/lib/python3.10/dist-packages (from pyvista[all,trame]) (1.23.2)\n",
      "Requirement already satisfied: pillow in /usr/local/lib/python3.10/dist-packages (from pyvista[all,trame]) (10.0.1)\n",
      "Requirement already satisfied: pooch in /usr/local/lib/python3.10/dist-packages (from pyvista[all,trame]) (1.8.0)\n",
      "Requirement already satisfied: scooby>=0.5.1 in /usr/local/lib/python3.10/dist-packages (from pyvista[all,trame]) (0.9.2)\n",
      "Requirement already satisfied: vtk in /usr/local/lib/python3.10/dist-packages (from pyvista[all,trame]) (9.3.0)\n",
      "Requirement already satisfied: decorator in /usr/local/lib/python3.10/dist-packages (from ipython>=6.1.0->ipywidgets) (5.1.1)\n",
      "Requirement already satisfied: jedi>=0.16 in /usr/local/lib/python3.10/dist-packages (from ipython>=6.1.0->ipywidgets) (0.19.1)\n",
      "Requirement already satisfied: matplotlib-inline in /usr/local/lib/python3.10/dist-packages (from ipython>=6.1.0->ipywidgets) (0.1.6)\n",
      "Requirement already satisfied: prompt-toolkit!=3.0.37,<3.1.0,>=3.0.30 in /usr/local/lib/python3.10/dist-packages (from ipython>=6.1.0->ipywidgets) (3.0.41)\n",
      "Requirement already satisfied: pygments>=2.4.0 in /usr/local/lib/python3.10/dist-packages (from ipython>=6.1.0->ipywidgets) (2.16.1)\n",
      "Requirement already satisfied: stack-data in /usr/local/lib/python3.10/dist-packages (from ipython>=6.1.0->ipywidgets) (0.6.3)\n",
      "Requirement already satisfied: exceptiongroup in /usr/local/lib/python3.10/dist-packages (from ipython>=6.1.0->ipywidgets) (1.1.3)\n",
      "Requirement already satisfied: pexpect>4.3 in /usr/local/lib/python3.10/dist-packages (from ipython>=6.1.0->ipywidgets) (4.8.0)\n",
      "Requirement already satisfied: contourpy>=1.0.1 in /usr/local/lib/python3.10/dist-packages (from matplotlib>=3.0.1->pyvista[all,trame]) (1.1.1)\n",
      "Requirement already satisfied: cycler>=0.10 in /usr/local/lib/python3.10/dist-packages (from matplotlib>=3.0.1->pyvista[all,trame]) (0.12.0)\n",
      "Requirement already satisfied: fonttools>=4.22.0 in /usr/local/lib/python3.10/dist-packages (from matplotlib>=3.0.1->pyvista[all,trame]) (4.43.0)\n",
      "Requirement already satisfied: kiwisolver>=1.0.1 in /usr/local/lib/python3.10/dist-packages (from matplotlib>=3.0.1->pyvista[all,trame]) (1.4.5)\n",
      "Requirement already satisfied: packaging>=20.0 in /usr/local/lib/python3.10/dist-packages (from matplotlib>=3.0.1->pyvista[all,trame]) (23.2)\n",
      "Requirement already satisfied: pyparsing>=2.3.1 in /usr/local/lib/python3.10/dist-packages (from matplotlib>=3.0.1->pyvista[all,trame]) (3.1.1)\n",
      "Requirement already satisfied: python-dateutil>=2.7 in /usr/local/lib/python3.10/dist-packages (from matplotlib>=3.0.1->pyvista[all,trame]) (2.8.2)\n",
      "Requirement already satisfied: platformdirs>=2.5.0 in /usr/local/lib/python3.10/dist-packages (from pooch->pyvista[all,trame]) (3.11.0)\n",
      "Requirement already satisfied: requests>=2.19.0 in /usr/local/lib/python3.10/dist-packages (from pooch->pyvista[all,trame]) (2.31.0)\n",
      "\u001b[33mWARNING: pyvista 0.42.2 does not provide the extra 'trame'\u001b[0m\u001b[33m\n",
      "\u001b[0mCollecting imageio (from pyvista[all,trame])\n",
      "  Obtaining dependency information for imageio from https://files.pythonhosted.org/packages/fa/04/9abe71dfe8c77f5ee58e8c50df3b562884f7494b56c318b867bd2dcb6ec8/imageio-2.33.0-py3-none-any.whl.metadata\n",
      "  Downloading imageio-2.33.0-py3-none-any.whl.metadata (4.9 kB)\n",
      "Collecting meshio>=5.2 (from pyvista[all,trame])\n",
      "  Downloading meshio-5.3.4-py3-none-any.whl (167 kB)\n",
      "\u001b[2K     \u001b[90m━━━━━━━━━━━━━━━━━━━━━━━━━━━━━━━━━━━━━━━\u001b[0m \u001b[32m167.7/167.7 kB\u001b[0m \u001b[31m3.5 MB/s\u001b[0m eta \u001b[36m0:00:00\u001b[0ma \u001b[36m0:00:01\u001b[0m\n",
      "\u001b[?25hCollecting cmocean (from pyvista[all,trame])\n",
      "  Downloading cmocean-3.0.3-py3-none-any.whl (222 kB)\n",
      "\u001b[2K     \u001b[90m━━━━━━━━━━━━━━━━━━━━━━━━━━━━━━━━━━━━━━━\u001b[0m \u001b[32m222.1/222.1 kB\u001b[0m \u001b[31m4.2 MB/s\u001b[0m eta \u001b[36m0:00:00\u001b[0ma \u001b[36m0:00:01\u001b[0m\n",
      "\u001b[?25hCollecting colorcet (from pyvista[all,trame])\n",
      "  Downloading colorcet-3.0.1-py2.py3-none-any.whl (1.7 MB)\n",
      "\u001b[2K     \u001b[90m━━━━━━━━━━━━━━━━━━━━━━━━━━━━━━━━━━━━━━━━\u001b[0m \u001b[32m1.7/1.7 MB\u001b[0m \u001b[31m4.0 MB/s\u001b[0m eta \u001b[36m0:00:00\u001b[0m00:01\u001b[0m00:01\u001b[0m\n",
      "\u001b[?25hCollecting jupyter-server-proxy (from pyvista[all,trame])\n",
      "  Obtaining dependency information for jupyter-server-proxy from https://files.pythonhosted.org/packages/19/fe/dc0b7d95d9078ea1b28221b5296bbeb3474a7d76de0d87101720ffc874f4/jupyter_server_proxy-4.1.0-py3-none-any.whl.metadata\n",
      "  Downloading jupyter_server_proxy-4.1.0-py3-none-any.whl.metadata (8.5 kB)\n",
      "Requirement already satisfied: nest-asyncio in /usr/local/lib/python3.10/dist-packages (from pyvista[all,trame]) (1.5.8)\n",
      "Collecting trame>=2.5.2 (from pyvista[all,trame])\n",
      "  Obtaining dependency information for trame>=2.5.2 from https://files.pythonhosted.org/packages/13/f3/b7188e2066e2ff5a648f4ca6ebfe50687607e5a8427c29e330298a1c0953/trame-3.3.0-py3-none-any.whl.metadata\n",
      "  Downloading trame-3.3.0-py3-none-any.whl.metadata (7.2 kB)\n",
      "Collecting trame-client>=2.10.0 (from pyvista[all,trame])\n",
      "  Obtaining dependency information for trame-client>=2.10.0 from https://files.pythonhosted.org/packages/6a/8c/391083bdec02db52339f8b1fa1ab78e1178d2b6ffe683c12fe0471210c0c/trame_client-2.12.6-py3-none-any.whl.metadata\n",
      "  Downloading trame_client-2.12.6-py3-none-any.whl.metadata (3.8 kB)\n",
      "Collecting trame-server>=2.11.7 (from pyvista[all,trame])\n",
      "  Obtaining dependency information for trame-server>=2.11.7 from https://files.pythonhosted.org/packages/7e/6c/dc1f70308f8b1da38a751c93e5f47b150c5278ad4711bae3a38a57cc86e0/trame_server-2.12.1-py3-none-any.whl.metadata\n",
      "  Downloading trame_server-2.12.1-py3-none-any.whl.metadata (4.3 kB)\n",
      "Collecting trame-vtk>=2.5.8 (from pyvista[all,trame])\n",
      "  Obtaining dependency information for trame-vtk>=2.5.8 from https://files.pythonhosted.org/packages/9a/e8/c14de958da48dbcdcd1c506596b21f28fed1f8a6f37898a7892db1fd5f64/trame_vtk-2.6.2-py3-none-any.whl.metadata\n",
      "  Downloading trame_vtk-2.6.2-py3-none-any.whl.metadata (12 kB)\n",
      "Collecting trame-vuetify>=2.3.1 (from pyvista[all,trame])\n",
      "  Obtaining dependency information for trame-vuetify>=2.3.1 from https://files.pythonhosted.org/packages/0a/ea/808b0245c197d91b206fa2e43268f0517ce20f002df72ad33bd5cd8c07f4/trame_vuetify-2.3.1-py3-none-any.whl.metadata\n",
      "  Downloading trame_vuetify-2.3.1-py3-none-any.whl.metadata (5.0 kB)\n",
      "Requirement already satisfied: parso<0.9.0,>=0.8.3 in /usr/local/lib/python3.10/dist-packages (from jedi>=0.16->ipython>=6.1.0->ipywidgets) (0.8.3)\n",
      "Collecting rich (from meshio>=5.2->pyvista[all,trame])\n",
      "  Obtaining dependency information for rich from https://files.pythonhosted.org/packages/be/be/1520178fa01eabe014b16e72a952b9f900631142ccd03dc36cf93e30c1ce/rich-13.7.0-py3-none-any.whl.metadata\n",
      "  Downloading rich-13.7.0-py3-none-any.whl.metadata (18 kB)\n",
      "Requirement already satisfied: ptyprocess>=0.5 in /usr/local/lib/python3.10/dist-packages (from pexpect>4.3->ipython>=6.1.0->ipywidgets) (0.7.0)\n",
      "Requirement already satisfied: wcwidth in /usr/local/lib/python3.10/dist-packages (from prompt-toolkit!=3.0.37,<3.1.0,>=3.0.30->ipython>=6.1.0->ipywidgets) (0.2.10)\n",
      "Requirement already satisfied: six>=1.5 in /usr/local/lib/python3.10/dist-packages (from python-dateutil>=2.7->matplotlib>=3.0.1->pyvista[all,trame]) (1.16.0)\n",
      "Requirement already satisfied: charset-normalizer<4,>=2 in /usr/local/lib/python3.10/dist-packages (from requests>=2.19.0->pooch->pyvista[all,trame]) (3.3.0)\n",
      "Requirement already satisfied: idna<4,>=2.5 in /usr/local/lib/python3.10/dist-packages (from requests>=2.19.0->pooch->pyvista[all,trame]) (3.4)\n",
      "Requirement already satisfied: urllib3<3,>=1.21.1 in /usr/local/lib/python3.10/dist-packages (from requests>=2.19.0->pooch->pyvista[all,trame]) (2.0.6)\n",
      "Requirement already satisfied: certifi>=2017.4.17 in /usr/local/lib/python3.10/dist-packages (from requests>=2.19.0->pooch->pyvista[all,trame]) (2023.7.22)\n",
      "Collecting wslink>=1.12.2 (from trame-server>=2.11.7->pyvista[all,trame])\n",
      "  Obtaining dependency information for wslink>=1.12.2 from https://files.pythonhosted.org/packages/26/34/d2bb14c69951234e1d121d3f48307907d552c2a8cbde60a6f6d46ee53f5f/wslink-1.12.4-py3-none-any.whl.metadata\n",
      "  Downloading wslink-1.12.4-py3-none-any.whl.metadata (3.0 kB)\n",
      "Collecting pyct>=0.4.4 (from colorcet->pyvista[all,trame])\n",
      "  Downloading pyct-0.5.0-py2.py3-none-any.whl (15 kB)\n",
      "Collecting aiohttp (from jupyter-server-proxy->pyvista[all,trame])\n",
      "  Obtaining dependency information for aiohttp from https://files.pythonhosted.org/packages/b0/36/c7bd200871e7351ab8396e8edcbb91e1198e0ded67a0824c93110c4c5df2/aiohttp-3.9.0-cp310-cp310-manylinux_2_17_x86_64.manylinux2014_x86_64.whl.metadata\n",
      "  Downloading aiohttp-3.9.0-cp310-cp310-manylinux_2_17_x86_64.manylinux2014_x86_64.whl.metadata (7.4 kB)\n",
      "Requirement already satisfied: jupyter-server>=1.0 in /usr/local/lib/python3.10/dist-packages (from jupyter-server-proxy->pyvista[all,trame]) (2.10.0)\n",
      "Collecting simpervisor>=1.0 (from jupyter-server-proxy->pyvista[all,trame])\n",
      "  Obtaining dependency information for simpervisor>=1.0 from https://files.pythonhosted.org/packages/9e/65/be223a02df814a3dbd84d8a0c446d21d4860a4f23ec4d81aabea34e7e994/simpervisor-1.0.0-py3-none-any.whl.metadata\n",
      "  Downloading simpervisor-1.0.0-py3-none-any.whl.metadata (4.3 kB)\n",
      "Requirement already satisfied: executing>=1.2.0 in /usr/local/lib/python3.10/dist-packages (from stack-data->ipython>=6.1.0->ipywidgets) (2.0.1)\n",
      "Requirement already satisfied: asttokens>=2.1.0 in /usr/local/lib/python3.10/dist-packages (from stack-data->ipython>=6.1.0->ipywidgets) (2.4.1)\n",
      "Requirement already satisfied: pure-eval in /usr/local/lib/python3.10/dist-packages (from stack-data->ipython>=6.1.0->ipywidgets) (0.2.2)\n",
      "Requirement already satisfied: anyio>=3.1.0 in /usr/local/lib/python3.10/dist-packages (from jupyter-server>=1.0->jupyter-server-proxy->pyvista[all,trame]) (4.0.0)\n",
      "Requirement already satisfied: argon2-cffi in /usr/local/lib/python3.10/dist-packages (from jupyter-server>=1.0->jupyter-server-proxy->pyvista[all,trame]) (23.1.0)\n",
      "Requirement already satisfied: jinja2 in /usr/local/lib/python3.10/dist-packages (from jupyter-server>=1.0->jupyter-server-proxy->pyvista[all,trame]) (3.1.2)\n",
      "Requirement already satisfied: jupyter-client>=7.4.4 in /usr/local/lib/python3.10/dist-packages (from jupyter-server>=1.0->jupyter-server-proxy->pyvista[all,trame]) (8.6.0)\n",
      "Requirement already satisfied: jupyter-core!=5.0.*,>=4.12 in /usr/local/lib/python3.10/dist-packages (from jupyter-server>=1.0->jupyter-server-proxy->pyvista[all,trame]) (5.3.2)\n",
      "Requirement already satisfied: jupyter-events>=0.6.0 in /usr/local/lib/python3.10/dist-packages (from jupyter-server>=1.0->jupyter-server-proxy->pyvista[all,trame]) (0.9.0)\n",
      "Requirement already satisfied: jupyter-server-terminals in /usr/local/lib/python3.10/dist-packages (from jupyter-server>=1.0->jupyter-server-proxy->pyvista[all,trame]) (0.4.4)\n",
      "Requirement already satisfied: nbconvert>=6.4.4 in /usr/local/lib/python3.10/dist-packages (from jupyter-server>=1.0->jupyter-server-proxy->pyvista[all,trame]) (7.11.0)\n",
      "Requirement already satisfied: nbformat>=5.3.0 in /usr/local/lib/python3.10/dist-packages (from jupyter-server>=1.0->jupyter-server-proxy->pyvista[all,trame]) (5.9.2)\n",
      "Requirement already satisfied: overrides in /usr/local/lib/python3.10/dist-packages (from jupyter-server>=1.0->jupyter-server-proxy->pyvista[all,trame]) (7.4.0)\n",
      "Requirement already satisfied: prometheus-client in /usr/local/lib/python3.10/dist-packages (from jupyter-server>=1.0->jupyter-server-proxy->pyvista[all,trame]) (0.18.0)\n",
      "Requirement already satisfied: pyzmq>=24 in /usr/local/lib/python3.10/dist-packages (from jupyter-server>=1.0->jupyter-server-proxy->pyvista[all,trame]) (25.1.1)\n",
      "Requirement already satisfied: send2trash>=1.8.2 in /usr/local/lib/python3.10/dist-packages (from jupyter-server>=1.0->jupyter-server-proxy->pyvista[all,trame]) (1.8.2)\n",
      "Requirement already satisfied: terminado>=0.8.3 in /usr/local/lib/python3.10/dist-packages (from jupyter-server>=1.0->jupyter-server-proxy->pyvista[all,trame]) (0.18.0)\n",
      "Requirement already satisfied: tornado>=6.2.0 in /usr/local/lib/python3.10/dist-packages (from jupyter-server>=1.0->jupyter-server-proxy->pyvista[all,trame]) (6.3.3)\n",
      "Requirement already satisfied: websocket-client in /usr/local/lib/python3.10/dist-packages (from jupyter-server>=1.0->jupyter-server-proxy->pyvista[all,trame]) (1.6.4)\n",
      "Collecting param>=1.7.0 (from pyct>=0.4.4->colorcet->pyvista[all,trame])\n",
      "  Obtaining dependency information for param>=1.7.0 from https://files.pythonhosted.org/packages/2c/7c/bbb850b1368f4a2d51bccaf7d6c9acc2f1d7c5ee97f7f7cca1c62b1bf23b/param-2.0.1-py3-none-any.whl.metadata\n",
      "  Downloading param-2.0.1-py3-none-any.whl.metadata (5.9 kB)\n",
      "Requirement already satisfied: attrs>=17.3.0 in /usr/local/lib/python3.10/dist-packages (from aiohttp->jupyter-server-proxy->pyvista[all,trame]) (23.1.0)\n",
      "Collecting multidict<7.0,>=4.5 (from aiohttp->jupyter-server-proxy->pyvista[all,trame])\n",
      "  Downloading multidict-6.0.4-cp310-cp310-manylinux_2_17_x86_64.manylinux2014_x86_64.whl (114 kB)\n",
      "\u001b[2K     \u001b[90m━━━━━━━━━━━━━━━━━━━━━━━━━━━━━━━━━━━━━━━\u001b[0m \u001b[32m114.5/114.5 kB\u001b[0m \u001b[31m3.6 MB/s\u001b[0m eta \u001b[36m0:00:00\u001b[0m\n",
      "\u001b[?25hCollecting yarl<2.0,>=1.0 (from aiohttp->jupyter-server-proxy->pyvista[all,trame])\n",
      "  Obtaining dependency information for yarl<2.0,>=1.0 from https://files.pythonhosted.org/packages/b6/b2/44b31699e27f82c577143d062a2b58cbe0c6e7a0828d13c0ffd10891ad40/yarl-1.9.3-cp310-cp310-manylinux_2_17_x86_64.manylinux2014_x86_64.whl.metadata\n",
      "  Downloading yarl-1.9.3-cp310-cp310-manylinux_2_17_x86_64.manylinux2014_x86_64.whl.metadata (28 kB)\n",
      "Collecting frozenlist>=1.1.1 (from aiohttp->jupyter-server-proxy->pyvista[all,trame])\n",
      "  Obtaining dependency information for frozenlist>=1.1.1 from https://files.pythonhosted.org/packages/1e/28/74b8b6451c89c070d34e753d8b65a1e4ce508a6808b18529f36e8c0e2184/frozenlist-1.4.0-cp310-cp310-manylinux_2_5_x86_64.manylinux1_x86_64.manylinux_2_17_x86_64.manylinux2014_x86_64.whl.metadata\n",
      "  Downloading frozenlist-1.4.0-cp310-cp310-manylinux_2_5_x86_64.manylinux1_x86_64.manylinux_2_17_x86_64.manylinux2014_x86_64.whl.metadata (5.2 kB)\n",
      "Collecting aiosignal>=1.1.2 (from aiohttp->jupyter-server-proxy->pyvista[all,trame])\n",
      "  Downloading aiosignal-1.3.1-py3-none-any.whl (7.6 kB)\n",
      "Collecting async-timeout<5.0,>=4.0 (from aiohttp->jupyter-server-proxy->pyvista[all,trame])\n",
      "  Obtaining dependency information for async-timeout<5.0,>=4.0 from https://files.pythonhosted.org/packages/a7/fa/e01228c2938de91d47b307831c62ab9e4001e747789d0b05baf779a6488c/async_timeout-4.0.3-py3-none-any.whl.metadata\n",
      "  Downloading async_timeout-4.0.3-py3-none-any.whl.metadata (4.2 kB)\n",
      "Requirement already satisfied: markdown-it-py>=2.2.0 in /usr/local/lib/python3.10/dist-packages (from rich->meshio>=5.2->pyvista[all,trame]) (3.0.0)\n",
      "Requirement already satisfied: sniffio>=1.1 in /usr/local/lib/python3.10/dist-packages (from anyio>=3.1.0->jupyter-server>=1.0->jupyter-server-proxy->pyvista[all,trame]) (1.3.0)\n",
      "Requirement already satisfied: jsonschema[format-nongpl]>=4.18.0 in /usr/local/lib/python3.10/dist-packages (from jupyter-events>=0.6.0->jupyter-server>=1.0->jupyter-server-proxy->pyvista[all,trame]) (4.19.1)\n",
      "Requirement already satisfied: python-json-logger>=2.0.4 in /usr/local/lib/python3.10/dist-packages (from jupyter-events>=0.6.0->jupyter-server>=1.0->jupyter-server-proxy->pyvista[all,trame]) (2.0.7)\n",
      "Requirement already satisfied: pyyaml>=5.3 in /usr/local/lib/python3.10/dist-packages (from jupyter-events>=0.6.0->jupyter-server>=1.0->jupyter-server-proxy->pyvista[all,trame]) (6.0.1)\n",
      "Requirement already satisfied: referencing in /usr/local/lib/python3.10/dist-packages (from jupyter-events>=0.6.0->jupyter-server>=1.0->jupyter-server-proxy->pyvista[all,trame]) (0.30.2)\n",
      "Requirement already satisfied: rfc3339-validator in /usr/local/lib/python3.10/dist-packages (from jupyter-events>=0.6.0->jupyter-server>=1.0->jupyter-server-proxy->pyvista[all,trame]) (0.1.4)\n",
      "Requirement already satisfied: rfc3986-validator>=0.1.1 in /usr/local/lib/python3.10/dist-packages (from jupyter-events>=0.6.0->jupyter-server>=1.0->jupyter-server-proxy->pyvista[all,trame]) (0.1.1)\n",
      "Requirement already satisfied: mdurl~=0.1 in /usr/local/lib/python3.10/dist-packages (from markdown-it-py>=2.2.0->rich->meshio>=5.2->pyvista[all,trame]) (0.1.2)\n",
      "Requirement already satisfied: beautifulsoup4 in /usr/local/lib/python3.10/dist-packages (from nbconvert>=6.4.4->jupyter-server>=1.0->jupyter-server-proxy->pyvista[all,trame]) (4.12.2)\n",
      "Requirement already satisfied: bleach!=5.0.0 in /usr/local/lib/python3.10/dist-packages (from nbconvert>=6.4.4->jupyter-server>=1.0->jupyter-server-proxy->pyvista[all,trame]) (6.1.0)\n",
      "Requirement already satisfied: defusedxml in /usr/local/lib/python3.10/dist-packages (from nbconvert>=6.4.4->jupyter-server>=1.0->jupyter-server-proxy->pyvista[all,trame]) (0.7.1)\n",
      "Requirement already satisfied: jupyterlab-pygments in /usr/local/lib/python3.10/dist-packages (from nbconvert>=6.4.4->jupyter-server>=1.0->jupyter-server-proxy->pyvista[all,trame]) (0.2.2)\n",
      "Requirement already satisfied: markupsafe>=2.0 in /usr/local/lib/python3.10/dist-packages (from nbconvert>=6.4.4->jupyter-server>=1.0->jupyter-server-proxy->pyvista[all,trame]) (2.1.3)\n",
      "Requirement already satisfied: mistune<4,>=2.0.3 in /usr/local/lib/python3.10/dist-packages (from nbconvert>=6.4.4->jupyter-server>=1.0->jupyter-server-proxy->pyvista[all,trame]) (3.0.2)\n",
      "Requirement already satisfied: nbclient>=0.5.0 in /usr/local/lib/python3.10/dist-packages (from nbconvert>=6.4.4->jupyter-server>=1.0->jupyter-server-proxy->pyvista[all,trame]) (0.9.0)\n",
      "Requirement already satisfied: pandocfilters>=1.4.1 in /usr/local/lib/python3.10/dist-packages (from nbconvert>=6.4.4->jupyter-server>=1.0->jupyter-server-proxy->pyvista[all,trame]) (1.5.0)\n",
      "Requirement already satisfied: tinycss2 in /usr/local/lib/python3.10/dist-packages (from nbconvert>=6.4.4->jupyter-server>=1.0->jupyter-server-proxy->pyvista[all,trame]) (1.2.1)\n",
      "Requirement already satisfied: fastjsonschema in /usr/local/lib/python3.10/dist-packages (from nbformat>=5.3.0->jupyter-server>=1.0->jupyter-server-proxy->pyvista[all,trame]) (2.18.1)\n",
      "Requirement already satisfied: argon2-cffi-bindings in /usr/local/lib/python3.10/dist-packages (from argon2-cffi->jupyter-server>=1.0->jupyter-server-proxy->pyvista[all,trame]) (21.2.0)\n",
      "Requirement already satisfied: webencodings in /usr/local/lib/python3.10/dist-packages (from bleach!=5.0.0->nbconvert>=6.4.4->jupyter-server>=1.0->jupyter-server-proxy->pyvista[all,trame]) (0.5.1)\n",
      "Requirement already satisfied: jsonschema-specifications>=2023.03.6 in /usr/local/lib/python3.10/dist-packages (from jsonschema[format-nongpl]>=4.18.0->jupyter-events>=0.6.0->jupyter-server>=1.0->jupyter-server-proxy->pyvista[all,trame]) (2023.7.1)\n",
      "Requirement already satisfied: rpds-py>=0.7.1 in /usr/local/lib/python3.10/dist-packages (from jsonschema[format-nongpl]>=4.18.0->jupyter-events>=0.6.0->jupyter-server>=1.0->jupyter-server-proxy->pyvista[all,trame]) (0.10.3)\n",
      "Requirement already satisfied: fqdn in /usr/local/lib/python3.10/dist-packages (from jsonschema[format-nongpl]>=4.18.0->jupyter-events>=0.6.0->jupyter-server>=1.0->jupyter-server-proxy->pyvista[all,trame]) (1.5.1)\n",
      "Requirement already satisfied: isoduration in /usr/local/lib/python3.10/dist-packages (from jsonschema[format-nongpl]>=4.18.0->jupyter-events>=0.6.0->jupyter-server>=1.0->jupyter-server-proxy->pyvista[all,trame]) (20.11.0)\n",
      "Requirement already satisfied: jsonpointer>1.13 in /usr/local/lib/python3.10/dist-packages (from jsonschema[format-nongpl]>=4.18.0->jupyter-events>=0.6.0->jupyter-server>=1.0->jupyter-server-proxy->pyvista[all,trame]) (2.4)\n",
      "Requirement already satisfied: uri-template in /usr/local/lib/python3.10/dist-packages (from jsonschema[format-nongpl]>=4.18.0->jupyter-events>=0.6.0->jupyter-server>=1.0->jupyter-server-proxy->pyvista[all,trame]) (1.3.0)\n",
      "Requirement already satisfied: webcolors>=1.11 in /usr/local/lib/python3.10/dist-packages (from jsonschema[format-nongpl]>=4.18.0->jupyter-events>=0.6.0->jupyter-server>=1.0->jupyter-server-proxy->pyvista[all,trame]) (1.13)\n",
      "Requirement already satisfied: cffi>=1.0.1 in /usr/local/lib/python3.10/dist-packages (from argon2-cffi-bindings->argon2-cffi->jupyter-server>=1.0->jupyter-server-proxy->pyvista[all,trame]) (1.16.0)\n",
      "Requirement already satisfied: soupsieve>1.2 in /usr/local/lib/python3.10/dist-packages (from beautifulsoup4->nbconvert>=6.4.4->jupyter-server>=1.0->jupyter-server-proxy->pyvista[all,trame]) (2.5)\n",
      "Requirement already satisfied: pycparser in /usr/local/lib/python3.10/dist-packages (from cffi>=1.0.1->argon2-cffi-bindings->argon2-cffi->jupyter-server>=1.0->jupyter-server-proxy->pyvista[all,trame]) (2.21)\n",
      "Requirement already satisfied: arrow>=0.15.0 in /usr/local/lib/python3.10/dist-packages (from isoduration->jsonschema[format-nongpl]>=4.18.0->jupyter-events>=0.6.0->jupyter-server>=1.0->jupyter-server-proxy->pyvista[all,trame]) (1.3.0)\n",
      "Requirement already satisfied: types-python-dateutil>=2.8.10 in /usr/local/lib/python3.10/dist-packages (from arrow>=0.15.0->isoduration->jsonschema[format-nongpl]>=4.18.0->jupyter-events>=0.6.0->jupyter-server>=1.0->jupyter-server-proxy->pyvista[all,trame]) (2.8.19.14)\n",
      "Downloading trame-3.3.0-py3-none-any.whl (29 kB)\n",
      "Downloading trame_client-2.12.6-py3-none-any.whl (229 kB)\n",
      "\u001b[2K   \u001b[90m━━━━━━━━━━━━━━━━━━━━━━━━━━━━━━━━━━━━━━━━\u001b[0m \u001b[32m229.2/229.2 kB\u001b[0m \u001b[31m6.1 MB/s\u001b[0m eta \u001b[36m0:00:00\u001b[0m00:01\u001b[0m\n",
      "\u001b[?25hDownloading trame_server-2.12.1-py3-none-any.whl (31 kB)\n",
      "Downloading trame_vtk-2.6.2-py3-none-any.whl (735 kB)\n",
      "\u001b[2K   \u001b[90m━━━━━━━━━━━━━━━━━━━━━━━━━━━━━━━━━━━━━━━━\u001b[0m \u001b[32m735.1/735.1 kB\u001b[0m \u001b[31m6.1 MB/s\u001b[0m eta \u001b[36m0:00:00\u001b[0ma \u001b[36m0:00:01\u001b[0m\n",
      "\u001b[?25hDownloading trame_vuetify-2.3.1-py3-none-any.whl (3.6 MB)\n",
      "\u001b[2K   \u001b[90m━━━━━━━━━━━━━━━━━━━━━━━━━━━━━━━━━━━━━━━━\u001b[0m \u001b[32m3.6/3.6 MB\u001b[0m \u001b[31m6.3 MB/s\u001b[0m eta \u001b[36m0:00:00\u001b[0m00:01\u001b[0m00:01\u001b[0m\n",
      "\u001b[?25hDownloading imageio-2.33.0-py3-none-any.whl (313 kB)\n",
      "\u001b[2K   \u001b[90m━━━━━━━━━━━━━━━━━━━━━━━━━━━━━━━━━━━━━━━━\u001b[0m \u001b[32m313.3/313.3 kB\u001b[0m \u001b[31m8.5 MB/s\u001b[0m eta \u001b[36m0:00:00\u001b[0m:00:01\u001b[0m\n",
      "\u001b[?25hDownloading jupyter_server_proxy-4.1.0-py3-none-any.whl (33 kB)\n",
      "Downloading simpervisor-1.0.0-py3-none-any.whl (8.3 kB)\n",
      "Downloading wslink-1.12.4-py3-none-any.whl (33 kB)\n",
      "Downloading aiohttp-3.9.0-cp310-cp310-manylinux_2_17_x86_64.manylinux2014_x86_64.whl (1.2 MB)\n",
      "\u001b[2K   \u001b[90m━━━━━━━━━━━━━━━━━━━━━━━━━━━━━━━━━━━━━━━━\u001b[0m \u001b[32m1.2/1.2 MB\u001b[0m \u001b[31m7.5 MB/s\u001b[0m eta \u001b[36m0:00:00\u001b[0ma \u001b[36m0:00:01\u001b[0mm\n",
      "\u001b[?25hDownloading rich-13.7.0-py3-none-any.whl (240 kB)\n",
      "\u001b[2K   \u001b[90m━━━━━━━━━━━━━━━━━━━━━━━━━━━━━━━━━━━━━━━━\u001b[0m \u001b[32m240.6/240.6 kB\u001b[0m \u001b[31m7.4 MB/s\u001b[0m eta \u001b[36m0:00:00\u001b[0m\n",
      "\u001b[?25hDownloading async_timeout-4.0.3-py3-none-any.whl (5.7 kB)\n",
      "Downloading frozenlist-1.4.0-cp310-cp310-manylinux_2_5_x86_64.manylinux1_x86_64.manylinux_2_17_x86_64.manylinux2014_x86_64.whl (225 kB)\n",
      "\u001b[2K   \u001b[90m━━━━━━━━━━━━━━━━━━━━━━━━━━━━━━━━━━━━━━━━\u001b[0m \u001b[32m225.7/225.7 kB\u001b[0m \u001b[31m7.7 MB/s\u001b[0m eta \u001b[36m0:00:00\u001b[0m\n",
      "\u001b[?25hDownloading param-2.0.1-py3-none-any.whl (113 kB)\n",
      "\u001b[2K   \u001b[90m━━━━━━━━━━━━━━━━━━━━━━━━━━━━━━━━━━━━━━━━\u001b[0m \u001b[32m113.4/113.4 kB\u001b[0m \u001b[31m8.7 MB/s\u001b[0m eta \u001b[36m0:00:00\u001b[0m\n",
      "\u001b[?25hDownloading yarl-1.9.3-cp310-cp310-manylinux_2_17_x86_64.manylinux2014_x86_64.whl (300 kB)\n",
      "\u001b[2K   \u001b[90m━━━━━━━━━━━━━━━━━━━━━━━━━━━━━━━━━━━━━━━━\u001b[0m \u001b[32m300.7/300.7 kB\u001b[0m \u001b[31m8.1 MB/s\u001b[0m eta \u001b[36m0:00:00\u001b[0m00:01\u001b[0m\n",
      "\u001b[?25hInstalling collected packages: trame-client, trame-vuetify, trame-vtk, simpervisor, param, multidict, imageio, frozenlist, async-timeout, yarl, rich, pyct, aiosignal, meshio, colorcet, cmocean, aiohttp, wslink, trame-server, trame, jupyter-server-proxy\n",
      "Successfully installed aiohttp-3.9.0 aiosignal-1.3.1 async-timeout-4.0.3 cmocean-3.0.3 colorcet-3.0.1 frozenlist-1.4.0 imageio-2.33.0 jupyter-server-proxy-4.1.0 meshio-5.3.4 multidict-6.0.4 param-2.0.1 pyct-0.5.0 rich-13.7.0 simpervisor-1.0.0 trame-3.3.0 trame-client-2.12.6 trame-server-2.12.1 trame-vtk-2.6.2 trame-vuetify-2.3.1 wslink-1.12.4 yarl-1.9.3\n",
      "\u001b[33mWARNING: Running pip as the 'root' user can result in broken permissions and conflicting behaviour with the system package manager. It is recommended to use a virtual environment instead: https://pip.pypa.io/warnings/venv\u001b[0m\u001b[33m\n",
      "\u001b[0m\n",
      "\u001b[1m[\u001b[0m\u001b[34;49mnotice\u001b[0m\u001b[1;39;49m]\u001b[0m\u001b[39;49m A new release of pip is available: \u001b[0m\u001b[31;49m23.2.1\u001b[0m\u001b[39;49m -> \u001b[0m\u001b[32;49m23.3.1\u001b[0m\n",
      "\u001b[1m[\u001b[0m\u001b[34;49mnotice\u001b[0m\u001b[1;39;49m]\u001b[0m\u001b[39;49m To update, run: \u001b[0m\u001b[32;49mpython3 -m pip install --upgrade pip\u001b[0m\n",
      "Note: you may need to restart the kernel to use updated packages.\n"
     ]
    }
   ],
   "source": [
    "# Exécuter cette commande une seule fois lorsque le container est en fonctionnement. \n",
    "# La commande installe dans les modules nécessaires à la visualisation des résultats  \n",
    "%pip install ipywidgets 'pyvista[all,trame]'\n",
    "\n",
    "import numpy as np\n",
    "import pyvista\n",
    "pyvista.OFF_SCREEN = True # Mettre False si l'affichage interactif semble fonctionner, sinon mettre True\n",
    "\n",
    "import ufl # Package pour manipuler les formes bilinéaires et linéaires\n",
    "from dolfinx import fem, mesh, plot # Package pour l'assemblage et pour l'affichage\n",
    "from dolfinx.fem.petsc import LinearProblem\n",
    "from dolfinx.io import XDMFFile, gmshio # Package avec des fonctions pour l'input/output de données\n",
    "\n",
    "from mpi4py import MPI # Package pour le calcul parallèle\n",
    "from petsc4py import PETSc # Package pour la résolution de\n",
    "\n",
    "from IPython.display import display, Markdown , Latex # Modules pour l'affichage Markdown"
   ]
  },
  {
   "cell_type": "markdown",
   "id": "60923cce-9822-4f12-a151-79aa28d4e1bd",
   "metadata": {},
   "source": [
    "## Définition du maillage\n",
    "\n",
    "2 approches peuvent être employées afin de définir un maillage:\n",
    "1. Utiliser les maillages simples de FEniCSx,\n",
    "2. Importer ou créer un maillage avec GMSH.\n",
    "\n",
    "On adoptera la seconde approche puisqu'elle se généralise mieux et permet de le traitement simplifiés des conditions frontières."
   ]
  },
  {
   "cell_type": "code",
   "execution_count": 2,
   "id": "34c491a1-2033-4072-8d14-ab66642b4105",
   "metadata": {},
   "outputs": [
    {
     "name": "stdout",
     "output_type": "stream",
     "text": [
      "Info    : Reading 'corde.msh'...\n",
      "Info    : 9 entities\n",
      "Info    : 11 nodes\n",
      "Info    : 15 elements\n",
      "Info    : Done reading 'corde.msh'\n"
     ]
    }
   ],
   "source": [
    "(domain, cell_tags, facet_tags) = gmshio.read_from_msh(\"corde.msh\", MPI.COMM_WORLD, gdim=1)\n",
    "\n",
    "x = ufl.SpatialCoordinate(domain) # Coordonnées pour la définition des formes\n",
    "ds = ufl.Measure(\"ds\", domain=domain, subdomain_data=facet_tags) # ds(i) contient l'information sur la i-ème frontière\n",
    "nMesh = ufl.FacetNormal(domain) # Vecteur normal au domaine"
   ]
  },
  {
   "cell_type": "markdown",
   "id": "b98d7ab4-b758-4749-b7c6-2e5f693caa2e",
   "metadata": {},
   "source": [
    "## Définition des paramètres du problème"
   ]
  },
  {
   "cell_type": "code",
   "execution_count": 3,
   "id": "f86301a0-f7a8-4065-9dfa-db2e923782e8",
   "metadata": {},
   "outputs": [],
   "source": [
    "L = 1\n",
    "t = 5\n",
    "k = 10\n",
    "rho_g = 10"
   ]
  },
  {
   "cell_type": "markdown",
   "id": "49ba757f-afd3-4488-a5f0-ffe7770a1fc5",
   "metadata": {},
   "source": [
    "## Définition de l'espace éléments finis $V$"
   ]
  },
  {
   "cell_type": "code",
   "execution_count": 4,
   "id": "4bebdbf6-bcb4-426e-9134-85e45cf01415",
   "metadata": {},
   "outputs": [],
   "source": [
    "degre = 2\n",
    "V = fem.FunctionSpace(domain, (\"Lagrange\", degre))\n",
    "u = ufl.TrialFunction(V)\n",
    "v = ufl.TestFunction(V)"
   ]
  },
  {
   "cell_type": "markdown",
   "id": "ee4c94cc-b3a1-494a-9e86-ebfdadfffca2",
   "metadata": {},
   "source": [
    "## Définition de la forme bilinéaire\n",
    "\n",
    "La forme faible possède cette forme \n",
    "\\begin{align}\n",
    "    a(u,v) = \\int_0^L k u'(x) v'(x)\\, dx\n",
    "\\end{align}\n"
   ]
  },
  {
   "cell_type": "code",
   "execution_count": 5,
   "id": "3b605ecc-e851-4452-ba7f-ff440bf62292",
   "metadata": {},
   "outputs": [],
   "source": [
    "bilinear = k * ufl.inner(ufl.grad(u), ufl.grad(v)) * ufl.dx"
   ]
  },
  {
   "cell_type": "markdown",
   "id": "e6633b48-f730-40f6-bae0-9cbdac60f316",
   "metadata": {},
   "source": [
    "## Définition des conditions frontières et de la forme linéaire\n",
    "\n",
    "On définit tout d'abord les conditions de Dirichlet en créant une fonction appartenant à $V$. Cette fonction interpolera la ou les conditions de Dirichlet (cette fonction peut être interprétée comme la fonction de relèvement)."
   ]
  },
  {
   "cell_type": "code",
   "execution_count": 6,
   "id": "27700458-e140-4e42-b553-559000a38793",
   "metadata": {},
   "outputs": [],
   "source": [
    "def fct_Dirichlet2(x):\n",
    "    return 0.0 * x[0] # x[0] de renvoyer un array de bonne structure, car x est un array de dim x nb_points \n",
    "\n",
    "u_D = fem.Function(V)\n",
    "u_D.interpolate(fct_Dirichlet2)\n",
    "facets = facet_tags.find(1) # Retourne les entités géométrique sur la frontière 1 (le noeud à gauche pour ce problème)\n",
    "dofs = fem.locate_dofs_topological(V, 0, facets) # Retourne les dofs sur la frontière 1 (le noeud à gauche pour ce problème)\n",
    "bcs = fem.dirichletbc(u_D, dofs) # Retourne la classe contenant l'iformation sur les conditions de Dirichlet"
   ]
  },
  {
   "cell_type": "markdown",
   "id": "f0947038-7e34-420e-9ae2-0a4e1d03c053",
   "metadata": {},
   "source": [
    "On définit la forme linéaire suivante\n",
    "\\begin{align}\n",
    "    l(v) = \\int_0^L f(x) v(x)\\, dx + t v(L) \\qquad \\forall v \\in V\n",
    "\\end{align}"
   ]
  },
  {
   "cell_type": "code",
   "execution_count": 7,
   "id": "d39a98d2-c81b-43a3-a126-a15bdae06d6b",
   "metadata": {},
   "outputs": [],
   "source": [
    "f = -rho_g\n",
    "linear_a = f*v*ufl.dx + t*v*ds(5)"
   ]
  },
  {
   "cell_type": "markdown",
   "id": "d4b02e32-7268-4348-a276-0cdc1e57f3a3",
   "metadata": {},
   "source": [
    "## Assemblage et résolution du système linéaire"
   ]
  },
  {
   "cell_type": "code",
   "execution_count": 8,
   "id": "11c33f66-6fe5-4c6e-a4e6-8a4c76e381f8",
   "metadata": {},
   "outputs": [],
   "source": [
    "problem_a = fem.petsc.LinearProblem(bilinear, linear_a, bcs=[bcs], petsc_options={\"ksp_type\": \"preonly\", \"pc_type\": \"lu\"}) # Factorisation LU\n",
    "uh_a = problem_a.solve()"
   ]
  },
  {
   "cell_type": "code",
   "execution_count": 9,
   "id": "6a7fdf02-7cc7-43f9-83d0-f0eb71436630",
   "metadata": {},
   "outputs": [
    {
     "data": {
      "text/markdown": [
       "<img src=\"./sol_a.png\" alt=\"Solution A\" width=\"800\"/>"
      ],
      "text/plain": [
       "<IPython.core.display.Markdown object>"
      ]
     },
     "metadata": {},
     "output_type": "display_data"
    }
   ],
   "source": [
    "pyvista.set_jupyter_backend(\"trame\")\n",
    "if pyvista.OFF_SCREEN:\n",
    "    pyvista.start_xvfb()\n",
    "\n",
    "# cells, types, coord = plot.create_vtk_mesh(V)\n",
    "cells, types, coord = plot.vtk_mesh(V)\n",
    "\n",
    "pdata = pyvista.PolyData(coord)\n",
    "pdata.lines = cells\n",
    "pdata.point_data[\"u\"] = uh_a.x.array.real\n",
    "pdata.set_active_scalars(\"u\")\n",
    "plotter = pyvista.Plotter()\n",
    "plotter.add_mesh(pdata, style='points',show_edges=True,color='black')\n",
    "plotter.add_mesh(pdata, show_edges=True,color='black')\n",
    "warped = pdata.warp_by_scalar()\n",
    "plotter.add_mesh(warped)\n",
    "plotter.view_xz()\n",
    "if not pyvista.OFF_SCREEN:\n",
    "    plotter.show()\n",
    "else:\n",
    "    figure = plotter.screenshot(\"sol_a.png\")\n",
    "    display(Markdown('<img src=\"./sol_a.png\" alt=\"Solution A\" width=\"800\"/>'))"
   ]
  },
  {
   "cell_type": "markdown",
   "id": "7b9d66c0-5f9f-4a4f-abfa-1c8f279fe3f7",
   "metadata": {},
   "source": [
    "## Calcul de l'erreur\n",
    "\n",
    "On calcule l'erreur en interpolant la solution exacte sur un espace éléments finis enrichis (on prendra ici des éléments de Lagrange d'un degré plus élevé. ). La solution exacte est\n",
    "\n",
    "\\begin{align}\n",
    "    u(x) = -\\frac{x(1-x)}{2}, \\qquad x\\in [0,1].\n",
    "\\end{align}\n",
    "\n",
    "On calculera la norme $L^2$ et la norme $H^1$ de l'erreur\n",
    "\\begin{align}\n",
    "    \\lVert e \\rVert_{L^2}^2 &= \\int_0^L (u_h(x) - u(x),u_h(x) - u(x))\\, dx\\\\\n",
    "    \\lVert e \\rVert_{H^1}^2 &= \\lVert e \\rVert_{L^2}^2 + \\int_0^L (\\nabla u_h(x) - \\nabla u(x), \\nabla u_h(x) - \\nabla u(x))\\, dx\n",
    "\\end{align}"
   ]
  },
  {
   "cell_type": "code",
   "execution_count": 10,
   "id": "23426a2f-caaf-4039-8264-3fa1bbe9742d",
   "metadata": {},
   "outputs": [],
   "source": [
    "uex_a_fct = lambda x: -x[0] * (1-x[0])/2\n",
    "\n",
    "Vplus = fem.FunctionSpace(domain, (\"Lagrange\", degre + 1))\n",
    "\n",
    "uex = fem.Function(Vplus)\n",
    "uex.interpolate(uex_a_fct)\n",
    "\n",
    "error = uh_a - uex\n",
    "\n",
    "L2_form = fem.form(ufl.inner(error, error) * ufl.dx)\n",
    "L2_local = fem.assemble_scalar(L2_form)\n",
    "L2 = np.sqrt(domain.comm.allreduce(L2_local, op=MPI.SUM))\n",
    "\n",
    "H1_semi_form = fem.form(ufl.inner(ufl.grad(error), ufl.grad(error)) * ufl.dx)\n",
    "H1_semi_local = fem.assemble_scalar(H1_semi_form)\n",
    "H1 = np.sqrt(L2**2 + domain.comm.allreduce(H1_semi_local, op=MPI.SUM))"
   ]
  },
  {
   "cell_type": "code",
   "execution_count": 11,
   "id": "670ee2f3-80e7-449a-ba0a-58a276d48f83",
   "metadata": {},
   "outputs": [
    {
     "data": {
      "text/markdown": [
       "$\\lVert e \\lVert_{L^2}$= 2.649799250827198e-15"
      ],
      "text/plain": [
       "<IPython.core.display.Markdown object>"
      ]
     },
     "metadata": {},
     "output_type": "display_data"
    },
    {
     "data": {
      "text/markdown": [
       "$\\lVert e \\lVert_{H^1}$= 5.2563520003802096e-15"
      ],
      "text/plain": [
       "<IPython.core.display.Markdown object>"
      ]
     },
     "metadata": {},
     "output_type": "display_data"
    }
   ],
   "source": [
    "display(Markdown(f\"$\\lVert e \\lVert_{{L^2}}$= {L2}\"))\n",
    "display(Markdown(f\"$\\lVert e \\lVert_{{H^1}}$= {H1}\"))"
   ]
  },
  {
   "cell_type": "markdown",
   "id": "d82cfb9d-81e7-4265-8238-70cc26fc8fd8",
   "metadata": {},
   "source": [
    "On peut aussi calculer l'erreur en chaque point du maillage. Pour ce faire, il faut interpoler la solution exacte sur le même espace fonctionelle $V_1$"
   ]
  },
  {
   "cell_type": "code",
   "execution_count": 12,
   "id": "e3ab7114-d935-4756-bceb-3f1e92ec1601",
   "metadata": {},
   "outputs": [
    {
     "data": {
      "text/markdown": [
       "<img src=\"./erreur_node.png\" width=\"800\"/>"
      ],
      "text/plain": [
       "<IPython.core.display.Markdown object>"
      ]
     },
     "metadata": {},
     "output_type": "display_data"
    }
   ],
   "source": [
    "uex_interV = fem.Function(V)\n",
    "uex_interV.interpolate(uex_a_fct)\n",
    "\n",
    "cells, types, coord = plot.vtk_mesh(V)\n",
    "pdata = pyvista.PolyData(coord)\n",
    "pdata.lines = cells\n",
    "pdata.point_data[\"error\"] = np.abs(uh_a.x.array.real[:] - uex_interV.x.array.real[:])\n",
    "pdata.set_active_scalars(\"error\")\n",
    "plotter = pyvista.Plotter()\n",
    "plotter.add_mesh(pdata, style='points',show_edges=True,color='black')\n",
    "plotter.add_mesh(pdata,show_edges=True,color='black')\n",
    "\n",
    "warped = pdata.warp_by_scalar()\n",
    "plotter.add_mesh(warped, style='points',show_edges=True)\n",
    "plotter.view_xz()\n",
    "if not pyvista.OFF_SCREEN:\n",
    "    plotter.show()\n",
    "else:\n",
    "    figure = plotter.screenshot(\"erreur_node.png\")\n",
    "    display(Markdown('<img src=\"./erreur_node.png\" width=\"800\"/>'))"
   ]
  },
  {
   "cell_type": "markdown",
   "id": "3b3e7cc5-205c-48cd-a6f7-4d8ca3089c84",
   "metadata": {},
   "source": [
    "---\n",
    "\n",
    "# Problème 2b) du devoir 3\n",
    "\n",
    "Pour ce problème, on change le terme source pour\n",
    "\n",
    "\\begin{align}\n",
    "    f(x) = -\\rho g - f_0 \\delta(x-x_0),\n",
    "\\end{align}\n",
    "\n",
    "où $f_0=20$ et $x_0=0.4$. Ce chargement correspond donc au poids de la corde additionné d'une force ponctuelle de valeur $f_0$ appliquée en $x=x_0$.\n",
    "\n",
    "Ce problème est un peu plus compliqué à résoudre, mais cela nous permet d'utiliser FEniCSx à un niveau plus bas i.e. en assemblant nous même le système linéaire à résoudre."
   ]
  },
  {
   "cell_type": "markdown",
   "id": "c8d8ff4c-4203-49e1-94b4-0e1eb85313d5",
   "metadata": {},
   "source": [
    "## Assemblage de la matrice $A$"
   ]
  },
  {
   "cell_type": "code",
   "execution_count": 13,
   "id": "1c8a7b8f-00d2-4860-ada5-633d911b3863",
   "metadata": {},
   "outputs": [],
   "source": [
    "bilinear_form = fem.form(bilinear)\n",
    "linear_form = fem.form(linear_a)\n",
    "\n",
    "A = fem.petsc.assemble_matrix(bilinear_form, bcs=[bcs])\n",
    "A.assemble()"
   ]
  },
  {
   "cell_type": "markdown",
   "id": "300f7c06-6e11-481c-bd98-cdec96f5c0ad",
   "metadata": {},
   "source": [
    "## Assemblage du terme de droite $B$\n",
    "\n",
    "Le terme de droite est un peu plus compliqué à assembler. On doit tout d'abord appliquer le \"lifting\" des conditions de Dirichlet et ensuite appliquer ces mêmes valeurs de Dirichlet."
   ]
  },
  {
   "cell_type": "code",
   "execution_count": 14,
   "id": "432475bb-91ac-48fe-aaf0-47c8a13faebd",
   "metadata": {},
   "outputs": [],
   "source": [
    "b = fem.petsc.create_vector(linear_form)\n",
    "\n",
    "# with b.localForm() as loc_b:\n",
    "#         loc_b.set(0)\n",
    "fem.petsc.assemble_vector(b, linear_form)\n",
    "\n",
    "# Apply Dirichlet boundary condition to the vector\n",
    "fem.petsc.apply_lifting(b, [bilinear_form], [[bcs]])\n",
    "b.ghostUpdate(addv=PETSc.InsertMode.ADD_VALUES, mode=PETSc.ScatterMode.REVERSE)\n",
    "fem.petsc.set_bc(b, [bcs])"
   ]
  },
  {
   "cell_type": "markdown",
   "id": "7a718130-469e-44a6-bdb3-9b04cdd2c7f6",
   "metadata": {},
   "source": [
    "Finalement, il faut ajouter le terme de Dirac au vecteur. On calcule le terme à ajouter\n",
    "\n",
    "\\begin{align}\n",
    "    -\\int_0^L f_0 \\delta(x - x_0)v(x)\\, dx = -f_0(x_0)v(x_0)\n",
    "\\end{align}\n",
    "\n",
    "Puisque l'on emploie des éléments de Lagrange, il faut identifier le degré de liberté qui ne vaut pas 0 en $x=x_0$.  "
   ]
  },
  {
   "cell_type": "code",
   "execution_count": 15,
   "id": "f30145cc-5a92-47e7-b34c-63be810a026b",
   "metadata": {},
   "outputs": [],
   "source": [
    "facets_x0 = facet_tags.find(3) # Retourne les entités géométrique sur la frontière 3 (le noeud exactement à x=0.4)\n",
    "dofs_x0 = fem.locate_dofs_topological(V, 0, facets_x0)\n",
    "\n",
    "f_0 = -20\n",
    "\n",
    "b.setValue(dofs_x0,f_0,addv=PETSc.InsertMode.ADD_VALUES)\n",
    "b.assemblyBegin()\n",
    "b.assemblyEnd()"
   ]
  },
  {
   "cell_type": "markdown",
   "id": "d7b32da5-7d59-45e9-a23a-198535894481",
   "metadata": {},
   "source": [
    "## Résolution du système linéaire\n",
    "\n",
    "On peut maintenant faire appel à la libraire PETSC qui permet de résoudre des systèmes linéaires en parallèle. On peut ainsi avoir beacoup de contrôle sur quel type de solveur et de préconditionneur sont employés, les tolérances et le nombre d'itérations maximal."
   ]
  },
  {
   "cell_type": "code",
   "execution_count": 16,
   "id": "d824b3c0-f6c5-4307-9938-99f3510586dc",
   "metadata": {},
   "outputs": [],
   "source": [
    "solver = PETSc.KSP().create(domain.comm)\n",
    "solver.setOperators(A)\n",
    "solver.setType(\"preonly\")\n",
    "solver.getPC().setType(\"lu\") # Apply LU preconditionneur, ce qui revient ici à un solveur LU\n",
    "\n",
    "uh_b = fem.Function(V)\n",
    "\n",
    "# Solve linear problem\n",
    "solver.solve(b, uh_b.vector)\n",
    "uh_b.x.scatter_forward() # Update la solution parmi tous les processus"
   ]
  },
  {
   "cell_type": "code",
   "execution_count": 17,
   "id": "f4adeacb-d936-4ddb-9080-d22f4863c3e5",
   "metadata": {},
   "outputs": [
    {
     "data": {
      "text/markdown": [
       "<img src=\"./sol_b.png\" width=\"800\"/>"
      ],
      "text/plain": [
       "<IPython.core.display.Markdown object>"
      ]
     },
     "metadata": {},
     "output_type": "display_data"
    }
   ],
   "source": [
    "# pyvista.set_jupyter_backend(\"pythreejs\")\n",
    "\n",
    "cells, types, coord = plot.vtk_mesh(V)\n",
    "pdata = pyvista.PolyData(coord)\n",
    "pdata.lines = cells\n",
    "pdata.point_data[\"u\"] = uh_b.x.array.real\n",
    "pdata.set_active_scalars(\"u\")\n",
    "plotter = pyvista.Plotter()\n",
    "plotter.add_mesh(pdata, style='points',show_edges=True,color='black')\n",
    "plotter.add_mesh(pdata, show_edges=True,color='black')\n",
    "\n",
    "warped = pdata.warp_by_scalar()\n",
    "plotter.add_mesh(warped)\n",
    "plotter.view_xz()\n",
    "if not pyvista.OFF_SCREEN:\n",
    "    plotter.show()\n",
    "else:\n",
    "    figure = plotter.screenshot(\"sol_b.png\")\n",
    "    display(Markdown('<img src=\"./sol_b.png\" width=\"800\"/>'))"
   ]
  },
  {
   "cell_type": "markdown",
   "id": "8e16ac6c-8ba6-4200-b895-c7c4f770e08e",
   "metadata": {},
   "source": [
    "## Calcul de l'erreur\n",
    "\n",
    "La solution exacte de ce problème avec ce chargement Dirac additionel est\n",
    "\n",
    "\\begin{align}\n",
    "    u(x) = -\\frac{x(1-x)}{2} - \\begin{cases} 2x & x\\in [0,0.4] \\\\\n",
    "     4/5 & x\\in[0.4,1]\\end{cases}\n",
    "\\end{align}\n",
    "\n",
    "On peut encore une fois représenter exactement cette solution avec un espace discret composé de polynomes de degré 2."
   ]
  },
  {
   "cell_type": "code",
   "execution_count": 18,
   "id": "04d9d3ad-9687-41dd-b878-4666236bc822",
   "metadata": {},
   "outputs": [],
   "source": [
    "def uex_b_fct(x):\n",
    "    f = np.zeros(np.size(x,1))\n",
    "    f = -x[0]*(1-x[0])/2 - 2*x[0] * (x[0] <=0.4) + -4/5 * (x[0]>0.4)\n",
    "    return f\n",
    "\n",
    "uex = fem.Function(Vplus)\n",
    "uex.interpolate(uex_b_fct)\n",
    "\n",
    "error = uh_b - uex\n",
    "\n",
    "L2_form = fem.form(ufl.inner(error, error) * ufl.dx)\n",
    "L2_local = fem.assemble_scalar(L2_form)\n",
    "L2 = np.sqrt(domain.comm.allreduce(L2_local, op=MPI.SUM))\n",
    "\n",
    "H1_semi_form = fem.form(ufl.inner(ufl.grad(error), ufl.grad(error)) * ufl.dx)\n",
    "H1_semi_local = fem.assemble_scalar(H1_semi_form)\n",
    "H1 = np.sqrt(L2**2 + domain.comm.allreduce(H1_semi_local, op=MPI.SUM))"
   ]
  },
  {
   "cell_type": "code",
   "execution_count": 19,
   "id": "7b217356-3576-455b-a2b4-c0002ed7f595",
   "metadata": {},
   "outputs": [
    {
     "data": {
      "text/markdown": [
       "$\\lVert e \\lVert_{L^2}$= 2.3398143127120012e-14"
      ],
      "text/plain": [
       "<IPython.core.display.Markdown object>"
      ]
     },
     "metadata": {},
     "output_type": "display_data"
    },
    {
     "data": {
      "text/markdown": [
       "$\\lVert e \\lVert_{H^1}$= 4.483872884727257e-14"
      ],
      "text/plain": [
       "<IPython.core.display.Markdown object>"
      ]
     },
     "metadata": {},
     "output_type": "display_data"
    }
   ],
   "source": [
    "display(Markdown(f\"$\\lVert e \\lVert_{{L^2}}$= {L2}\"))\n",
    "display(Markdown(f\"$\\lVert e \\lVert_{{H^1}}$= {H1}\"))"
   ]
  },
  {
   "cell_type": "markdown",
   "id": "8facf1f5-56ce-45fd-b096-cd738d6f3130",
   "metadata": {},
   "source": [
    "---\n",
    "\n",
    "# Problème 2c) du devoir 3\n",
    "\n",
    "Pour ce problème, on change le terme source pour\n",
    "\n",
    "\\begin{align}\n",
    "    f(x) = -\\rho g - f_0 x^2\\big[H(x-x_1) - H(x-x_2)\\big],\n",
    "\\end{align}\n",
    "\n",
    "où $f_0=500$ et $x_1=0.2$ et $x_2=0.6$. Ce chargement correspond donc au poids de la corde additionné d'une force distribuée entre $x_1$ et $x_2$.\n"
   ]
  },
  {
   "cell_type": "code",
   "execution_count": 20,
   "id": "0330bbda-9a33-41c3-859c-6863f99bd612",
   "metadata": {},
   "outputs": [],
   "source": [
    "f_0 = 500\n",
    "l_charge = ufl.conditional(ufl.And(ufl.ge(x[0],0.2),ufl.le(x[0],0.6)),-f_0 * x[0]**2,0)\n",
    "\n",
    "linear_c = linear_a + l_charge*v*ufl.dx"
   ]
  },
  {
   "cell_type": "code",
   "execution_count": 21,
   "id": "ebc0d72f-aa2f-4ed7-bc86-f6b081f0b483",
   "metadata": {},
   "outputs": [],
   "source": [
    "problem_c = fem.petsc.LinearProblem(bilinear, linear_c, bcs=[bcs], petsc_options={\"ksp_type\": \"preonly\", \"pc_type\": \"lu\"})\n",
    "uh_c = problem_c.solve()"
   ]
  },
  {
   "cell_type": "code",
   "execution_count": 22,
   "id": "e606bb71-574f-4ece-a2ee-ec2fd1416925",
   "metadata": {},
   "outputs": [
    {
     "data": {
      "text/markdown": [
       "<img src=\"./sol_c.png\" width=\"800\"/>"
      ],
      "text/plain": [
       "<IPython.core.display.Markdown object>"
      ]
     },
     "metadata": {},
     "output_type": "display_data"
    }
   ],
   "source": [
    "cells, types, coord = plot.vtk_mesh(V)\n",
    "pdata = pyvista.PolyData(coord)\n",
    "pdata.lines = cells\n",
    "pdata.point_data[\"u\"] = uh_c.x.array.real\n",
    "pdata.set_active_scalars(\"u\")\n",
    "plotter = pyvista.Plotter()\n",
    "plotter.add_mesh(pdata, style='points',show_edges=True,color='black')\n",
    "plotter.add_mesh(pdata, show_edges=True,color='black')\n",
    "\n",
    "warped = pdata.warp_by_scalar()\n",
    "plotter.add_mesh(warped)\n",
    "plotter.view_xz()\n",
    "if not pyvista.OFF_SCREEN:\n",
    "    plotter.show()\n",
    "else:\n",
    "    figure = plotter.screenshot(\"sol_c.png\")\n",
    "    display(Markdown('<img src=\"./sol_c.png\" width=\"800\"/>'))"
   ]
  },
  {
   "cell_type": "markdown",
   "id": "6443a85b-a8a5-4bd3-9819-fff0127d876a",
   "metadata": {},
   "source": [
    "## Calcul de l'erreur\n",
    "\n",
    "Avec ce nouveau chargement, la solution exacte est \n",
    "\n",
    "\\begin{align}\n",
    "    u(x) = -\\frac{x(1-x)}{2} - \\begin{cases} \\frac{52}{15}x & x\\in [0,0.2] \\\\\n",
    "     -\\frac{25}{6}x^4 + \\frac{18}{5}x - \\frac{1}{50} & x\\in[0.2,0.6] \\\\\n",
    "     \\frac{8}{5} & x\\in[0.6,1]\\end{cases}\n",
    "\\end{align}"
   ]
  },
  {
   "cell_type": "code",
   "execution_count": 23,
   "id": "d5c8aecc-e316-46e0-91be-91dfb98d5339",
   "metadata": {},
   "outputs": [],
   "source": [
    "def uex_c_fct(x):\n",
    "    f = np.zeros(np.size(x,1))\n",
    "    f = -x[0]*(1-x[0])/2\n",
    "    f = f - 52/15*x[0] * (x[0] <=0.2)\n",
    "    f = f - (-25/6*x[0]**4 + 18/5*x[0] - 1/50) * ((x[0] > 0.2) & (x[0] < 0.6))\n",
    "    f = f - 8/5 * (x[0]>=0.6)\n",
    "    return f\n",
    "\n",
    "uex = fem.Function(Vplus)\n",
    "uex.interpolate(uex_c_fct)\n",
    "\n",
    "error = uh_c - uex\n",
    "\n",
    "L2_form = fem.form(ufl.inner(error, error) * ufl.dx)\n",
    "L2_local = fem.assemble_scalar(L2_form)\n",
    "L2 = np.sqrt(domain.comm.allreduce(L2_local, op=MPI.SUM))\n",
    "\n",
    "H1_semi_form = fem.form(ufl.inner(ufl.grad(error), ufl.grad(error)) * ufl.dx)\n",
    "H1_semi_local = fem.assemble_scalar(H1_semi_form)\n",
    "H1 = np.sqrt(L2**2 + domain.comm.allreduce(H1_semi_local, op=MPI.SUM))"
   ]
  },
  {
   "cell_type": "code",
   "execution_count": 24,
   "id": "6295de25-f4b2-42fd-9a05-cc49bbe278e0",
   "metadata": {},
   "outputs": [
    {
     "data": {
      "text/markdown": [
       "$\\lVert e \\lVert_{L^2}$= 0.0001510544945280732"
      ],
      "text/plain": [
       "<IPython.core.display.Markdown object>"
      ]
     },
     "metadata": {},
     "output_type": "display_data"
    },
    {
     "data": {
      "text/markdown": [
       "$\\lVert e \\lVert_{H^1}$= 0.009790615445087317"
      ],
      "text/plain": [
       "<IPython.core.display.Markdown object>"
      ]
     },
     "metadata": {},
     "output_type": "display_data"
    }
   ],
   "source": [
    "display(Markdown(f\"$\\lVert e \\lVert_{{L^2}}$= {L2}\"))\n",
    "display(Markdown(f\"$\\lVert e \\lVert_{{H^1}}$= {H1}\"))"
   ]
  },
  {
   "cell_type": "code",
   "execution_count": 25,
   "id": "d92ea1cd-0bee-46bf-b657-d3c5d8df26d8",
   "metadata": {},
   "outputs": [
    {
     "data": {
      "text/markdown": [
       "Interpolation de l'erreur pour 5 éléments quadratiques"
      ],
      "text/plain": [
       "<IPython.core.display.Markdown object>"
      ]
     },
     "metadata": {},
     "output_type": "display_data"
    },
    {
     "data": {
      "text/markdown": [
       "$\\lVert e \\lVert_{L^2}$= 0.0012084359562245855"
      ],
      "text/plain": [
       "<IPython.core.display.Markdown object>"
      ]
     },
     "metadata": {},
     "output_type": "display_data"
    },
    {
     "data": {
      "text/markdown": [
       "$\\lVert e \\lVert_{H^1}$= 0.03916246178034927"
      ],
      "text/plain": [
       "<IPython.core.display.Markdown object>"
      ]
     },
     "metadata": {},
     "output_type": "display_data"
    }
   ],
   "source": [
    "if degre == 2:\n",
    "    display(Markdown(f\"Interpolation de l'erreur pour 5 éléments quadratiques\"))\n",
    "    display(Markdown(f\"$\\lVert e \\lVert_{{L^2}}$= {8*L2}\"))\n",
    "    display(Markdown(f\"$\\lVert e \\lVert_{{H^1}}$= {4*H1}\"))"
   ]
  }
 ],
 "metadata": {
  "kernelspec": {
   "display_name": "Python 3 (ipykernel)",
   "language": "python",
   "name": "python3"
  },
  "language_info": {
   "codemirror_mode": {
    "name": "ipython",
    "version": 3
   },
   "file_extension": ".py",
   "mimetype": "text/x-python",
   "name": "python",
   "nbconvert_exporter": "python",
   "pygments_lexer": "ipython3",
   "version": "3.10.12"
  }
 },
 "nbformat": 4,
 "nbformat_minor": 5
}
